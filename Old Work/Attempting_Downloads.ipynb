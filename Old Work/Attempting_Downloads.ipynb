{
 "cells": [
  {
   "cell_type": "code",
   "execution_count": 7,
   "id": "80e31486",
   "metadata": {},
   "outputs": [
    {
     "data": {
      "text/html": [
       "<div><i>EventTable masked=True length=39</i>\n",
       "<table id=\"table140693575278496\" class=\"table-striped table-bordered table-condensed\">\n",
       "<thead><tr><th>name</th><th>final_mass_source_upper</th><th>chi_eff</th><th>reference</th><th>commonName</th><th>luminosity_distance_lower</th><th>final_mass_source_lower</th><th>mass_1_source</th><th>chi_eff_lower</th><th>network_matched_filter_snr_upper</th><th>mass_2_source_lower</th><th>GPS</th><th>jsonurl</th><th>total_mass_source_upper</th><th>total_mass_source_lower</th><th>chi_eff_upper</th><th>p_astro_lower</th><th>mass_2_source</th><th>redshift</th><th>total_mass_source</th><th>far_lower</th><th>mass_1_source_upper</th><th>p_astro</th><th>final_mass_source</th><th>far</th><th>chirp_mass_source_lower</th><th>luminosity_distance</th><th>luminosity_distance_upper</th><th>chirp_mass_source_upper</th><th>network_matched_filter_snr</th><th>chirp_mass</th><th>chirp_mass_lower</th><th>redshift_upper</th><th>version</th><th>chirp_mass_upper</th><th>mass_1_source_lower</th><th>mass_2_source_upper</th><th>redshift_lower</th><th>p_astro_upper</th><th>catalog.shortName</th><th>chirp_mass_source</th><th>far_upper</th><th>network_matched_filter_snr_lower</th></tr></thead>\n",
       "<thead><tr><th></th><th>solMass</th><th></th><th></th><th></th><th>Mpc</th><th>solMass</th><th>solMass</th><th></th><th></th><th>solMass</th><th></th><th></th><th>solMass</th><th>solMass</th><th></th><th></th><th>solMass</th><th></th><th>solMass</th><th>1 / yr</th><th>solMass</th><th></th><th>solMass</th><th>1 / yr</th><th>solMass</th><th>Mpc</th><th>Mpc</th><th>solMass</th><th></th><th>solMass</th><th>solMass</th><th></th><th></th><th>solMass</th><th>solMass</th><th>solMass</th><th></th><th></th><th></th><th>solMass</th><th>1 / yr</th><th></th></tr></thead>\n",
       "<thead><tr><th>str18</th><th>object</th><th>float64</th><th>str8</th><th>str15</th><th>float64</th><th>object</th><th>float64</th><th>float64</th><th>object</th><th>float64</th><th>float64</th><th>str70</th><th>float64</th><th>float64</th><th>float64</th><th>object</th><th>float64</th><th>float64</th><th>float64</th><th>object</th><th>float64</th><th>object</th><th>object</th><th>float64</th><th>float64</th><th>float64</th><th>float64</th><th>float64</th><th>float64</th><th>float64</th><th>float64</th><th>float64</th><th>int64</th><th>float64</th><th>float64</th><th>float64</th><th>float64</th><th>object</th><th>str6</th><th>float64</th><th>object</th><th>object</th></tr></thead>\n",
       "<tr><td>GW190408_181802-v1</td><td>3.9</td><td>-0.03</td><td>/GWTC-2/</td><td>GW190408_181802</td><td>-600.0</td><td>-2.8</td><td>24.6</td><td>-0.19</td><td>None</td><td>-3.6</td><td>1238782700.3</td><td>https://www.gw-openscience.org/eventapi/json/GWTC-2/GW190408_181802/v1</td><td>4.2</td><td>-3.0</td><td>0.14</td><td>None</td><td>18.4</td><td>0.29</td><td>43.0</td><td>None</td><td>5.1</td><td>1.0</td><td>41.1</td><td>1e-05</td><td>-1.2</td><td>1550.0</td><td>400.0</td><td>1.9</td><td>14.67360038139546</td><td>23.7</td><td>-1.7</td><td>0.06</td><td>1</td><td>1.4</td><td>-3.4</td><td>3.3</td><td>-0.1</td><td>None</td><td>GWTC-2</td><td>18.3</td><td>None</td><td>None</td></tr>\n",
       "<tr><td>GW190412-v3</td><td>3.9</td><td>0.25</td><td>/GWTC-2/</td><td>GW190412</td><td>-170.0</td><td>-3.8</td><td>30.1</td><td>-0.11</td><td>None</td><td>-0.9</td><td>1239082262.2</td><td>https://www.gw-openscience.org/eventapi/json/GWTC-2/GW190412/v3</td><td>3.8</td><td>-3.7</td><td>0.08</td><td>None</td><td>8.3</td><td>0.15</td><td>38.4</td><td>None</td><td>4.7</td><td>1.0</td><td>37.3</td><td>1e-05</td><td>-0.3</td><td>740.0</td><td>140.0</td><td>0.4</td><td>18.86182683162956</td><td>15.2</td><td>-0.2</td><td>0.03</td><td>3</td><td>0.2</td><td>-5.1</td><td>1.6</td><td>-0.03</td><td>None</td><td>GWTC-2</td><td>13.3</td><td>None</td><td>None</td></tr>\n",
       "<tr><td>GW190413_052954-v1</td><td>12.5</td><td>-0.01</td><td>/GWTC-2/</td><td>GW190413_052954</td><td>-1660.0</td><td>-9.2</td><td>34.7</td><td>-0.34</td><td>None</td><td>-6.7</td><td>1239168612.5</td><td>https://www.gw-openscience.org/eventapi/json/GWTC-2/GW190413_052954/v1</td><td>13.3</td><td>-9.7</td><td>0.29</td><td>None</td><td>23.7</td><td>0.59</td><td>58.6</td><td>None</td><td>12.6</td><td>0.97779</td><td>56.0</td><td>0.07168326663702794</td><td>-4.1</td><td>3550.0</td><td>2270.0</td><td>5.5</td><td>8.555396161858269</td><td>39.4</td><td>-6.6</td><td>0.29</td><td>1</td><td>7.7</td><td>-8.1</td><td>7.3</td><td>-0.24</td><td>None</td><td>GWTC-2</td><td>24.6</td><td>None</td><td>None</td></tr>\n",
       "<tr><td>GW190413_134308-v1</td><td>16.4</td><td>-0.03</td><td>/GWTC-2/</td><td>GW190413_134308</td><td>-2120.0</td><td>-11.4</td><td>47.5</td><td>-0.29</td><td>None</td><td>-10.8</td><td>1239198206.7</td><td>https://www.gw-openscience.org/eventapi/json/GWTC-2/GW190413_134308/v1</td><td>17.4</td><td>-11.9</td><td>0.25</td><td>None</td><td>31.8</td><td>0.71</td><td>78.8</td><td>None</td><td>13.5</td><td>0.9849</td><td>75.5</td><td>0.043657319879159086</td><td>-5.4</td><td>4450.0</td><td>2480.0</td><td>8.2</td><td>9.030693020279005</td><td>57.0</td><td>-9.8</td><td>0.31</td><td>1</td><td>8.6</td><td>-10.7</td><td>11.7</td><td>-0.3</td><td>None</td><td>GWTC-2</td><td>33.0</td><td>None</td><td>None</td></tr>\n",
       "<tr><td>GW190421_213856-v1</td><td>12.5</td><td>-0.06</td><td>/GWTC-2/</td><td>GW190421_213856</td><td>-1380.0</td><td>-8.7</td><td>41.3</td><td>-0.27</td><td>None</td><td>-8.8</td><td>1239917954.3</td><td>https://www.gw-openscience.org/eventapi/json/GWTC-2/GW190421_213856/v1</td><td>13.4</td><td>-9.2</td><td>0.22</td><td>None</td><td>31.9</td><td>0.49</td><td>72.9</td><td>None</td><td>10.4</td><td>0.999768</td><td>69.7</td><td>0.0007738314255311893</td><td>-4.2</td><td>2880.0</td><td>1370.0</td><td>5.9</td><td>10.55069569549375</td><td>46.6</td><td>-6.0</td><td>0.19</td><td>1</td><td>6.6</td><td>-6.9</td><td>8.0</td><td>-0.21</td><td>None</td><td>GWTC-2</td><td>31.2</td><td>None</td><td>None</td></tr>\n",
       "<tr><td>GW190424_180648-v1</td><td>12.4</td><td>0.13</td><td>/GWTC-2/</td><td>GW190424_180648</td><td>-1160.0</td><td>-10.1</td><td>40.5</td><td>-0.22</td><td>None</td><td>-7.7</td><td>1240164426.1</td><td>https://www.gw-openscience.org/eventapi/json/GWTC-2/GW190424_180648/v1</td><td>13.3</td><td>-10.7</td><td>0.22</td><td>None</td><td>31.8</td><td>0.39</td><td>72.6</td><td>None</td><td>11.1</td><td>0.12110151519463319</td><td>68.9</td><td>9.038785546924121</td><td>-4.6</td><td>2200.0</td><td>1580.0</td><td>5.8</td><td>10.0939769744873</td><td>43.4</td><td>-4.8</td><td>0.23</td><td>1</td><td>6.0</td><td>-7.3</td><td>7.6</td><td>-0.19</td><td>None</td><td>GWTC-2</td><td>31.0</td><td>None</td><td>None</td></tr>\n",
       "<tr><td>...</td><td>...</td><td>...</td><td>...</td><td>...</td><td>...</td><td>...</td><td>...</td><td>...</td><td>...</td><td>...</td><td>...</td><td>...</td><td>...</td><td>...</td><td>...</td><td>...</td><td>...</td><td>...</td><td>...</td><td>...</td><td>...</td><td>...</td><td>...</td><td>...</td><td>...</td><td>...</td><td>...</td><td>...</td><td>...</td><td>...</td><td>...</td><td>...</td><td>...</td><td>...</td><td>...</td><td>...</td><td>...</td><td>...</td><td>...</td><td>...</td><td>...</td><td>...</td></tr>\n",
       "<tr><td>GW190909_114149-v1</td><td>54.9</td><td>-0.06</td><td>/GWTC-2/</td><td>GW190909_114149</td><td>-2220.0</td><td>-16.8</td><td>45.8</td><td>-0.36</td><td>None</td><td>-12.7</td><td>1252064527.7</td><td>https://www.gw-openscience.org/eventapi/json/GWTC-2/GW190909_114149/v1</td><td>55.9</td><td>-17.6</td><td>0.37</td><td>None</td><td>28.3</td><td>0.62</td><td>75.0</td><td>None</td><td>52.7</td><td>0.13553</td><td>72.0</td><td>26.1830194416</td><td>-7.5</td><td>3770.0</td><td>3270.0</td><td>17.2</td><td>9.047895</td><td>49.8</td><td>-12.4</td><td>0.41</td><td>1</td><td>32.2</td><td>-13.3</td><td>13.4</td><td>-0.33</td><td>None</td><td>GWTC-2</td><td>30.9</td><td>None</td><td>None</td></tr>\n",
       "<tr><td>GW190910_112807-v1</td><td>8.5</td><td>0.02</td><td>/GWTC-2/</td><td>GW190910_112807</td><td>-580.0</td><td>-8.6</td><td>43.9</td><td>-0.18</td><td>None</td><td>-7.2</td><td>1252150105.3</td><td>https://www.gw-openscience.org/eventapi/json/GWTC-2/GW190910_112807/v1</td><td>9.3</td><td>-9.1</td><td>0.18</td><td>None</td><td>35.6</td><td>0.28</td><td>79.6</td><td>None</td><td>7.6</td><td>0.999988</td><td>75.8</td><td>1.8852694587530696e-05</td><td>-4.1</td><td>1460.0</td><td>1030.0</td><td>4.1</td><td>13.41737344451953</td><td>43.9</td><td>-3.6</td><td>0.16</td><td>1</td><td>4.6</td><td>-6.1</td><td>6.3</td><td>-0.1</td><td>None</td><td>GWTC-2</td><td>34.3</td><td>None</td><td>None</td></tr>\n",
       "<tr><td>GW190915_235702-v1</td><td>7.1</td><td>0.02</td><td>/GWTC-2/</td><td>GW190915_235702</td><td>-610.0</td><td>-6.0</td><td>35.3</td><td>-0.25</td><td>None</td><td>-6.1</td><td>1252627040.7</td><td>https://www.gw-openscience.org/eventapi/json/GWTC-2/GW190915_235702/v1</td><td>7.5</td><td>-6.4</td><td>0.2</td><td>None</td><td>24.4</td><td>0.3</td><td>59.9</td><td>None</td><td>9.5</td><td>1.0</td><td>57.2</td><td>1e-05</td><td>-2.7</td><td>1620.0</td><td>710.0</td><td>3.2</td><td>13.07209167194663</td><td>33.1</td><td>-3.9</td><td>0.11</td><td>1</td><td>3.3</td><td>-6.4</td><td>5.6</td><td>-0.1</td><td>None</td><td>GWTC-2</td><td>25.3</td><td>None</td><td>None</td></tr>\n",
       "<tr><td>GW190924_021846-v1</td><td>5.2</td><td>0.03</td><td>/GWTC-2/</td><td>GW190924_021846</td><td>-220.0</td><td>-1.0</td><td>8.9</td><td>-0.09</td><td>None</td><td>-1.9</td><td>1253326744.8</td><td>https://www.gw-openscience.org/eventapi/json/GWTC-2/GW190924_021846/v1</td><td>5.1</td><td>-1.0</td><td>0.3</td><td>None</td><td>5.0</td><td>0.12</td><td>13.9</td><td>None</td><td>7.0</td><td>1.0</td><td>13.3</td><td>1e-05</td><td>-0.2</td><td>570.0</td><td>220.0</td><td>0.2</td><td>13.15903752184739</td><td>6.44</td><td>-0.03</td><td>0.04</td><td>1</td><td>0.04</td><td>-2.0</td><td>1.4</td><td>-0.04</td><td>None</td><td>GWTC-2</td><td>5.8</td><td>None</td><td>None</td></tr>\n",
       "<tr><td>GW190929_012149-v1</td><td>33.6</td><td>0.01</td><td>/GWTC-2/</td><td>GW190929_012149</td><td>-1050.0</td><td>-25.3</td><td>80.8</td><td>-0.33</td><td>None</td><td>-10.6</td><td>1253755327.5</td><td>https://www.gw-openscience.org/eventapi/json/GWTC-2/GW190929_012149/v1</td><td>34.9</td><td>-25.2</td><td>0.34</td><td>None</td><td>24.1</td><td>0.38</td><td>104.3</td><td>None</td><td>33.0</td><td>0.995693</td><td>101.5</td><td>0.020161443585491597</td><td>-8.2</td><td>2130.0</td><td>3650.0</td><td>14.9</td><td>9.875628916044713</td><td>52.2</td><td>-15.4</td><td>0.49</td><td>1</td><td>19.9</td><td>-33.2</td><td>19.3</td><td>-0.17</td><td>None</td><td>GWTC-2</td><td>35.8</td><td>None</td><td>None</td></tr>\n",
       "<tr><td>GW190930_133541-v1</td><td>9.2</td><td>0.14</td><td>/GWTC-2/</td><td>GW190930_133541</td><td>-320.0</td><td>-1.5</td><td>12.3</td><td>-0.15</td><td>None</td><td>-3.3</td><td>1253885759.2</td><td>https://www.gw-openscience.org/eventapi/json/GWTC-2/GW190930_133541/v1</td><td>8.9</td><td>-1.5</td><td>0.31</td><td>None</td><td>7.8</td><td>0.15</td><td>20.3</td><td>None</td><td>12.4</td><td>0.99373</td><td>19.4</td><td>0.03309219802659227</td><td>-0.5</td><td>760.0</td><td>360.0</td><td>0.5</td><td>9.837638319153829</td><td>9.8</td><td>-0.2</td><td>0.06</td><td>1</td><td>0.2</td><td>-2.3</td><td>1.7</td><td>-0.06</td><td>None</td><td>GWTC-2</td><td>8.5</td><td>None</td><td>None</td></tr>\n",
       "</table></div>"
      ],
      "text/plain": [
       "<EventTable masked=True length=39>\n",
       "       name        final_mass_source_upper ... network_matched_filter_snr_lower\n",
       "                           solMass         ...                                 \n",
       "      str18                 object         ...              object             \n",
       "------------------ ----------------------- ... --------------------------------\n",
       "GW190408_181802-v1                     3.9 ...                             None\n",
       "       GW190412-v3                     3.9 ...                             None\n",
       "GW190413_052954-v1                    12.5 ...                             None\n",
       "GW190413_134308-v1                    16.4 ...                             None\n",
       "GW190421_213856-v1                    12.5 ...                             None\n",
       "GW190424_180648-v1                    12.4 ...                             None\n",
       "               ...                     ... ...                              ...\n",
       "GW190909_114149-v1                    54.9 ...                             None\n",
       "GW190910_112807-v1                     8.5 ...                             None\n",
       "GW190915_235702-v1                     7.1 ...                             None\n",
       "GW190924_021846-v1                     5.2 ...                             None\n",
       "GW190929_012149-v1                    33.6 ...                             None\n",
       "GW190930_133541-v1                     9.2 ...                             None"
      ]
     },
     "execution_count": 7,
     "metadata": {},
     "output_type": "execute_result"
    }
   ],
   "source": [
    "from gwpy.table import EventTable\n",
    "events = EventTable.fetch_open_data(\"GWTC-2\")\n",
    "events"
   ]
  },
  {
   "cell_type": "code",
   "execution_count": 5,
   "id": "af0d7f16",
   "metadata": {},
   "outputs": [
    {
     "data": {
      "text/plain": [
       "('testingGWdownloads.txt', <http.client.HTTPMessage at 0x7fba94e33a30>)"
      ]
     },
     "execution_count": 5,
     "metadata": {},
     "output_type": "execute_result"
    }
   ],
   "source": [
    "from urllib import request\n",
    "\n",
    "#event_names = EventTable.fetch_open_data(\"GWTC-2\", columns = ['jsonurl'])\n",
    "#filenames = [event_names]\n",
    "#print(filenames)\n",
    "remote_url = 'https://www.gw-openscience.org/eventapi/json/GWTC-2/GW190413_134308/v1'\n",
    "local_path = 'testingGWdownloads.txt'\n",
    "request.urlretrieve(remote_url, local_path)\n",
    "\n"
   ]
  },
  {
   "cell_type": "code",
   "execution_count": null,
   "id": "67d0e729",
   "metadata": {},
   "outputs": [],
   "source": []
  }
 ],
 "metadata": {
  "kernelspec": {
   "display_name": "Python 3 (ipykernel)",
   "language": "python",
   "name": "python3"
  },
  "language_info": {
   "codemirror_mode": {
    "name": "ipython",
    "version": 3
   },
   "file_extension": ".py",
   "mimetype": "text/x-python",
   "name": "python",
   "nbconvert_exporter": "python",
   "pygments_lexer": "ipython3",
   "version": "3.9.7"
  }
 },
 "nbformat": 4,
 "nbformat_minor": 5
}
