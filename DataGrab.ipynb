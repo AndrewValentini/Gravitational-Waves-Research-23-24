{
 "cells": [
  {
   "cell_type": "code",
   "execution_count": 1,
   "id": "05dae71d-bdb1-48e6-b4c3-98f4d5690d7b",
   "metadata": {},
   "outputs": [],
   "source": [
    "from gwpy.table import EventTable\n",
    "import pandas as pd\n",
    "events = EventTable.fetch_open_data(\"GWTC-2\")\n",
    "events = EventTable.to_pandas(events)\n",
    "events.to_csv(\"Data/GWTC-2.csv\")"
   ]
  },
  {
   "cell_type": "code",
   "execution_count": 2,
   "id": "813ee8e2-cea6-46eb-9286-066d0475d3e4",
   "metadata": {},
   "outputs": [],
   "source": [
    "events = EventTable.fetch_open_data(\"GWTC-2.1-auxiliary\")\n",
    "events = EventTable.to_pandas(events)\n",
    "events.to_csv(\"Data/GWTC-2_1-auxiliary.csv\")"
   ]
  },
  {
   "cell_type": "code",
   "execution_count": 3,
   "id": "fe1e401e-66f5-4f9f-ae69-7433b6a71e62",
   "metadata": {},
   "outputs": [],
   "source": [
    "#GWTC-2.1-confident\n",
    "events = EventTable.fetch_open_data(\"GWTC-2.1-confident\")\n",
    "events = EventTable.to_pandas(events)\n",
    "events.to_csv(\"Data/GWTC-2_1-confident.csv\")"
   ]
  },
  {
   "cell_type": "code",
   "execution_count": 4,
   "id": "14ef9f05-98b0-4c72-be08-1ce56de7e95e",
   "metadata": {},
   "outputs": [],
   "source": [
    "events = EventTable.fetch_open_data(\"GWTC-2.1-marginal\")\n",
    "events = EventTable.to_pandas(events)\n",
    "events.to_csv(\"Data/GWTC-2_1-marginal.csv\")"
   ]
  },
  {
   "cell_type": "code",
   "execution_count": 5,
   "id": "98965df1-e7ce-44ff-97a6-135d19841098",
   "metadata": {},
   "outputs": [],
   "source": [
    "events = EventTable.fetch_open_data(\"GWTC-3-confident\")\n",
    "events = EventTable.to_pandas(events)\n",
    "events.to_csv(\"Data/GWTC-3-confident.csv\")"
   ]
  },
  {
   "cell_type": "code",
   "execution_count": 6,
   "id": "73ea1296-e0c5-4782-8b94-fb20cadb38d4",
   "metadata": {},
   "outputs": [],
   "source": [
    "events = EventTable.fetch_open_data(\"GWTC-3-marginal\")\n",
    "events = EventTable.to_pandas(events)\n",
    "events.to_csv(\"Data/GWTC-3-marginal.csv\")"
   ]
  },
  {
   "cell_type": "code",
   "execution_count": 7,
   "metadata": {},
   "outputs": [],
   "source": [
    "events = EventTable.fetch_open_data(\"GWTC-1-confident\")\n",
    "events = EventTable.to_pandas(events)\n",
    "events.to_csv(\"Data/GWTC-1-confident.csv\")"
   ]
  },
  {
   "cell_type": "code",
   "execution_count": 8,
   "metadata": {},
   "outputs": [],
   "source": [
    "events = EventTable.fetch_open_data(\"GWTC-1-marginal\")\n",
    "events = EventTable.to_pandas(events)\n",
    "events.to_csv(\"Data/GWTC-1-marginal.csv\")"
   ]
  },
  {
   "cell_type": "code",
   "execution_count": 9,
   "id": "cee309d9-d34d-438c-8a6f-645e6dd61d0e",
   "metadata": {},
   "outputs": [],
   "source": [
    "events = EventTable.fetch_open_data(\"Initial_LIGO_Virgo\")\n",
    "events = EventTable.to_pandas(events)\n",
    "events.to_csv(\"Data/Initial_LIGO_Virgo.csv\")"
   ]
  },
  {
   "cell_type": "code",
   "execution_count": 10,
   "id": "f5747b68-6ede-48bb-9858-ae0f6f533bd2",
   "metadata": {},
   "outputs": [],
   "source": [
    "events = EventTable.fetch_open_data(\"O1_O2-Preliminary\")\n",
    "events = EventTable.to_pandas(events)\n",
    "events.to_csv(\"Data/O1_O2-Preliminary.csv\")"
   ]
  },
  {
   "cell_type": "code",
   "execution_count": 11,
   "metadata": {},
   "outputs": [],
   "source": [
    "events = EventTable.fetch_open_data(\"O3_Discovery_Papers\")\n",
    "events = EventTable.to_pandas(events)\n",
    "events.to_csv(\"Data/O3_Discovery_Papers.csv\")"
   ]
  },
  {
   "cell_type": "code",
   "execution_count": 12,
   "metadata": {},
   "outputs": [],
   "source": [
    "events = EventTable.fetch_open_data(\"O3_IMBH_marginal\")\n",
    "events = EventTable.to_pandas(events)\n",
    "events.to_csv(\"Data/O3_IMBH_marginal.csv\")"
   ]
  },
  {
   "cell_type": "markdown",
   "metadata": {},
   "source": [
    "events = EventTable.fetch_open_data(\"\")\n",
    "events = EventTable.to_pandas(events)\n",
    "events.to_csv(\"Data/.csv\")"
   ]
  },
  {
   "cell_type": "markdown",
   "metadata": {},
   "source": []
  }
 ],
 "metadata": {
  "kernelspec": {
   "display_name": "Python 3 (ipykernel)",
   "language": "python",
   "name": "python3"
  },
  "language_info": {
   "codemirror_mode": {
    "name": "ipython",
    "version": 3
   },
   "file_extension": ".py",
   "mimetype": "text/x-python",
   "name": "python",
   "nbconvert_exporter": "python",
   "pygments_lexer": "ipython3",
   "version": "3.11.4"
  }
 },
 "nbformat": 4,
 "nbformat_minor": 5
}
