{
 "cells": [
  {
   "cell_type": "code",
   "execution_count": 1,
   "id": "05dae71d-bdb1-48e6-b4c3-98f4d5690d7b",
   "metadata": {},
   "outputs": [
    {
     "data": {
      "text/html": [
       "<div><i>EventTable masked=True length=39</i>\n",
       "<table id=\"table2698580946064\" class=\"table-striped table-bordered table-condensed\">\n",
       "<thead><tr><th>name</th><th>commonName</th><th>total_mass_source_lower</th><th>chi_eff_upper</th><th>chirp_mass_source</th><th>chirp_mass</th><th>jsonurl</th><th>reference</th><th>catalog.shortName</th><th>total_mass_source_upper</th><th>p_astro_upper</th><th>final_mass_source_upper</th><th>chirp_mass_lower</th><th>final_mass_source</th><th>chirp_mass_source_upper</th><th>luminosity_distance_upper</th><th>final_mass_source_lower</th><th>mass_1_source_lower</th><th>mass_2_source_lower</th><th>chi_eff</th><th>chi_eff_lower</th><th>chirp_mass_source_lower</th><th>redshift</th><th>far</th><th>far_lower</th><th>redshift_lower</th><th>network_matched_filter_snr_upper</th><th>mass_1_source</th><th>p_astro_lower</th><th>mass_2_source</th><th>luminosity_distance</th><th>mass_1_source_upper</th><th>version</th><th>total_mass_source</th><th>luminosity_distance_lower</th><th>mass_2_source_upper</th><th>p_astro</th><th>far_upper</th><th>GPS</th><th>network_matched_filter_snr_lower</th><th>chirp_mass_upper</th><th>redshift_upper</th><th>network_matched_filter_snr</th></tr></thead>\n",
       "<thead><tr><th></th><th></th><th>solMass</th><th></th><th>solMass</th><th>solMass</th><th></th><th></th><th></th><th>solMass</th><th></th><th>solMass</th><th>solMass</th><th>solMass</th><th>solMass</th><th>Mpc</th><th>solMass</th><th>solMass</th><th>solMass</th><th></th><th></th><th>solMass</th><th></th><th>1 / yr</th><th>1 / yr</th><th></th><th></th><th>solMass</th><th></th><th>solMass</th><th>Mpc</th><th>solMass</th><th></th><th>solMass</th><th>Mpc</th><th>solMass</th><th></th><th>1 / yr</th><th></th><th></th><th>solMass</th><th></th><th></th></tr></thead>\n",
       "<thead><tr><th>str18</th><th>str15</th><th>float64</th><th>float64</th><th>float64</th><th>float64</th><th>str57</th><th>str8</th><th>str6</th><th>float64</th><th>object</th><th>object</th><th>float64</th><th>object</th><th>float64</th><th>float64</th><th>object</th><th>float64</th><th>float64</th><th>float64</th><th>float64</th><th>float64</th><th>float64</th><th>float64</th><th>object</th><th>float64</th><th>object</th><th>float64</th><th>object</th><th>float64</th><th>float64</th><th>float64</th><th>int32</th><th>float64</th><th>float64</th><th>float64</th><th>object</th><th>object</th><th>float64</th><th>object</th><th>float64</th><th>float64</th><th>float64</th></tr></thead>\n",
       "<tr><td>GW190930_133541-v1</td><td>GW190930_133541</td><td>-1.5</td><td>0.31</td><td>8.5</td><td>9.8</td><td>https://gwosc.org/eventapi/json/GWTC-2/GW190930_133541/v1</td><td>/GWTC-2/</td><td>GWTC-2</td><td>8.9</td><td>None</td><td>9.2</td><td>-0.2</td><td>19.4</td><td>0.5</td><td>360.0</td><td>-1.5</td><td>-2.3</td><td>-3.3</td><td>0.14</td><td>-0.15</td><td>-0.5</td><td>0.15</td><td>0.03309219802659227</td><td>None</td><td>-0.06</td><td>None</td><td>12.3</td><td>None</td><td>7.8</td><td>760.0</td><td>12.4</td><td>1</td><td>20.3</td><td>-320.0</td><td>1.7</td><td>0.997</td><td>None</td><td>1253885759.2</td><td>None</td><td>0.2</td><td>0.06</td><td>10.01932734846673</td></tr>\n",
       "<tr><td>GW190929_012149-v1</td><td>GW190929_012149</td><td>-25.2</td><td>0.34</td><td>35.8</td><td>52.2</td><td>https://gwosc.org/eventapi/json/GWTC-2/GW190929_012149/v1</td><td>/GWTC-2/</td><td>GWTC-2</td><td>34.9</td><td>None</td><td>33.6</td><td>-15.4</td><td>101.5</td><td>14.9</td><td>3650.0</td><td>-25.3</td><td>-33.2</td><td>-10.6</td><td>0.01</td><td>-0.33</td><td>-8.2</td><td>0.38</td><td>0.020161443585491597</td><td>None</td><td>-0.17</td><td>None</td><td>80.8</td><td>None</td><td>24.1</td><td>2130.0</td><td>33.0</td><td>1</td><td>104.3</td><td>-1050.0</td><td>19.3</td><td>0.995693</td><td>None</td><td>1253755327.5</td><td>None</td><td>19.9</td><td>0.49</td><td>9.875628916044713</td></tr>\n",
       "<tr><td>GW190924_021846-v1</td><td>GW190924_021846</td><td>-1.0</td><td>0.3</td><td>5.8</td><td>6.44</td><td>https://gwosc.org/eventapi/json/GWTC-2/GW190924_021846/v1</td><td>/GWTC-2/</td><td>GWTC-2</td><td>5.1</td><td>None</td><td>5.2</td><td>-0.03</td><td>13.3</td><td>0.2</td><td>220.0</td><td>-1.0</td><td>-2.0</td><td>-1.9</td><td>0.03</td><td>-0.09</td><td>-0.2</td><td>0.12</td><td>1e-05</td><td>None</td><td>-0.04</td><td>None</td><td>8.9</td><td>None</td><td>5.0</td><td>570.0</td><td>7.0</td><td>1</td><td>13.9</td><td>-220.0</td><td>1.4</td><td>1.0</td><td>None</td><td>1253326744.8</td><td>None</td><td>0.04</td><td>0.04</td><td>13.15903752184739</td></tr>\n",
       "<tr><td>GW190915_235702-v1</td><td>GW190915_235702</td><td>-6.4</td><td>0.2</td><td>25.3</td><td>33.1</td><td>https://gwosc.org/eventapi/json/GWTC-2/GW190915_235702/v1</td><td>/GWTC-2/</td><td>GWTC-2</td><td>7.5</td><td>None</td><td>7.1</td><td>-3.9</td><td>57.2</td><td>3.2</td><td>710.0</td><td>-6.0</td><td>-6.4</td><td>-6.1</td><td>0.02</td><td>-0.25</td><td>-2.7</td><td>0.3</td><td>1e-05</td><td>None</td><td>-0.1</td><td>None</td><td>35.3</td><td>None</td><td>24.4</td><td>1620.0</td><td>9.5</td><td>1</td><td>59.9</td><td>-610.0</td><td>5.6</td><td>1.0</td><td>None</td><td>1252627040.7</td><td>None</td><td>3.3</td><td>0.11</td><td>13.07209167194663</td></tr>\n",
       "<tr><td>GW190910_112807-v1</td><td>GW190910_112807</td><td>-9.1</td><td>0.18</td><td>34.3</td><td>43.9</td><td>https://gwosc.org/eventapi/json/GWTC-2/GW190910_112807/v1</td><td>/GWTC-2/</td><td>GWTC-2</td><td>9.3</td><td>None</td><td>8.5</td><td>-3.6</td><td>75.8</td><td>4.1</td><td>1030.0</td><td>-8.6</td><td>-6.1</td><td>-7.2</td><td>0.02</td><td>-0.18</td><td>-4.1</td><td>0.28</td><td>1.8852694587530696e-05</td><td>None</td><td>-0.1</td><td>None</td><td>43.9</td><td>None</td><td>35.6</td><td>1460.0</td><td>7.6</td><td>1</td><td>79.6</td><td>-580.0</td><td>6.3</td><td>0.999988</td><td>None</td><td>1252150105.3</td><td>None</td><td>4.6</td><td>0.16</td><td>13.41737344451953</td></tr>\n",
       "<tr><td>GW190909_114149-v1</td><td>GW190909_114149</td><td>-17.6</td><td>0.37</td><td>30.9</td><td>49.8</td><td>https://gwosc.org/eventapi/json/GWTC-2/GW190909_114149/v1</td><td>/GWTC-2/</td><td>GWTC-2</td><td>55.9</td><td>None</td><td>54.9</td><td>-12.4</td><td>72.0</td><td>17.2</td><td>3270.0</td><td>-16.8</td><td>-13.3</td><td>-12.7</td><td>-0.06</td><td>-0.36</td><td>-7.5</td><td>0.62</td><td>1.1112276612026477</td><td>None</td><td>-0.33</td><td>None</td><td>45.8</td><td>None</td><td>28.3</td><td>3770.0</td><td>52.7</td><td>1</td><td>75.0</td><td>-2220.0</td><td>13.4</td><td>0.886704</td><td>None</td><td>1252064527.7</td><td>None</td><td>32.2</td><td>0.41</td><td>9.047895</td></tr>\n",
       "<tr><td>GW190828_065509-v1</td><td>GW190828_065509</td><td>-4.4</td><td>0.16</td><td>13.3</td><td>17.4</td><td>https://gwosc.org/eventapi/json/GWTC-2/GW190828_065509/v1</td><td>/GWTC-2/</td><td>GWTC-2</td><td>5.4</td><td>None</td><td>5.5</td><td>-0.7</td><td>33.1</td><td>1.2</td><td>620.0</td><td>-4.5</td><td>-7.2</td><td>-2.1</td><td>0.08</td><td>-0.16</td><td>-1.0</td><td>0.3</td><td>1e-05</td><td>None</td><td>-0.1</td><td>None</td><td>24.1</td><td>None</td><td>10.2</td><td>1600.0</td><td>7.0</td><td>1</td><td>34.4</td><td>-600.0</td><td>3.6</td><td>1.0</td><td>None</td><td>1251010527.9</td><td>None</td><td>0.6</td><td>0.1</td><td>11.12790886853085</td></tr>\n",
       "<tr><td>GW190828_063405-v1</td><td>GW190828_063405</td><td>-4.8</td><td>0.15</td><td>25.0</td><td>34.5</td><td>https://gwosc.org/eventapi/json/GWTC-2/GW190828_063405/v1</td><td>/GWTC-2/</td><td>GWTC-2</td><td>7.7</td><td>None</td><td>7.2</td><td>-2.8</td><td>54.9</td><td>3.4</td><td>660.0</td><td>-4.3</td><td>-4.0</td><td>-4.8</td><td>0.19</td><td>-0.16</td><td>-2.1</td><td>0.38</td><td>1e-05</td><td>None</td><td>-0.15</td><td>None</td><td>32.1</td><td>None</td><td>26.2</td><td>2130.0</td><td>5.8</td><td>1</td><td>58.0</td><td>-930.0</td><td>4.6</td><td>1.0</td><td>None</td><td>1251009263.8</td><td>None</td><td>2.9</td><td>0.1</td><td>16.629603122143354</td></tr>\n",
       "<tr><td>GW190814-v2</td><td>GW190814</td><td>-0.9</td><td>0.06</td><td>6.09</td><td>6.41</td><td>https://gwosc.org/eventapi/json/GWTC-2/GW190814/v2</td><td>/GWTC-2/</td><td>GWTC-2</td><td>1.0</td><td>None</td><td>1.1</td><td>-0.02</td><td>25.6</td><td>0.06</td><td>40.0</td><td>-0.9</td><td>-1.0</td><td>-0.09</td><td>0.0</td><td>-0.06</td><td>-0.06</td><td>0.05</td><td>1e-05</td><td>None</td><td>-0.01</td><td>None</td><td>23.2</td><td>None</td><td>2.59</td><td>240.0</td><td>1.1</td><td>2</td><td>25.8</td><td>-50.0</td><td>0.08</td><td>1.0</td><td>None</td><td>1249852257.0</td><td>None</td><td>0.02</td><td>0.009</td><td>22.17523325999954</td></tr>\n",
       "<tr><td>...</td><td>...</td><td>...</td><td>...</td><td>...</td><td>...</td><td>...</td><td>...</td><td>...</td><td>...</td><td>...</td><td>...</td><td>...</td><td>...</td><td>...</td><td>...</td><td>...</td><td>...</td><td>...</td><td>...</td><td>...</td><td>...</td><td>...</td><td>...</td><td>...</td><td>...</td><td>...</td><td>...</td><td>...</td><td>...</td><td>...</td><td>...</td><td>...</td><td>...</td><td>...</td><td>...</td><td>...</td><td>...</td><td>...</td><td>...</td><td>...</td><td>...</td><td>...</td></tr>\n",
       "<tr><td>GW190512_180714-v1</td><td>GW190512_180714</td><td>-3.5</td><td>0.12</td><td>14.6</td><td>18.6</td><td>https://gwosc.org/eventapi/json/GWTC-2/GW190512_180714/v1</td><td>/GWTC-2/</td><td>GWTC-2</td><td>3.8</td><td>None</td><td>3.8</td><td>-0.8</td><td>34.5</td><td>1.3</td><td>550.0</td><td>-3.5</td><td>-5.8</td><td>-2.5</td><td>0.03</td><td>-0.13</td><td>-1.0</td><td>0.27</td><td>1e-05</td><td>None</td><td>-0.1</td><td>None</td><td>23.3</td><td>None</td><td>12.6</td><td>1430.0</td><td>5.3</td><td>1</td><td>35.9</td><td>-550.0</td><td>3.6</td><td>1.0</td><td>None</td><td>1241719652.4</td><td>None</td><td>0.9</td><td>0.09</td><td>12.26449406234808</td></tr>\n",
       "<tr><td>GW190503_185404-v1</td><td>GW190503_185404</td><td>-8.3</td><td>0.2</td><td>30.2</td><td>38.6</td><td>https://gwosc.org/eventapi/json/GWTC-2/GW190503_185404/v1</td><td>/GWTC-2/</td><td>GWTC-2</td><td>9.4</td><td>None</td><td>8.8</td><td>-6.0</td><td>68.6</td><td>4.2</td><td>690.0</td><td>-7.7</td><td>-8.1</td><td>-8.0</td><td>-0.03</td><td>-0.26</td><td>-4.2</td><td>0.27</td><td>1e-05</td><td>None</td><td>-0.11</td><td>None</td><td>43.3</td><td>None</td><td>28.4</td><td>1450.0</td><td>9.2</td><td>1</td><td>71.7</td><td>-630.0</td><td>7.7</td><td>1.0</td><td>None</td><td>1240944862.3</td><td>None</td><td>5.3</td><td>0.11</td><td>12.20867275049248</td></tr>\n",
       "<tr><td>GW190426_152155-v1</td><td>GW190426_152155</td><td>-1.5</td><td>0.32</td><td>2.41</td><td>2.6</td><td>https://gwosc.org/eventapi/json/GWTC-2/GW190426_152155/v1</td><td>/GWTC-2/</td><td>GWTC-2</td><td>3.5</td><td>None</td><td>None</td><td>-0.01</td><td>None</td><td>0.08</td><td>180.0</td><td>None</td><td>-2.3</td><td>-0.5</td><td>-0.03</td><td>-0.3</td><td>-0.08</td><td>0.08</td><td>1.443741335492165</td><td>None</td><td>-0.03</td><td>None</td><td>5.7</td><td>None</td><td>1.5</td><td>370.0</td><td>3.9</td><td>1</td><td>7.2</td><td>-160.0</td><td>0.8</td><td>None</td><td>None</td><td>1240327333.3</td><td>None</td><td>0.01</td><td>0.04</td><td>10.12041364677255</td></tr>\n",
       "<tr><td>GW190425-v2</td><td>GW190425</td><td>-0.1</td><td>0.11</td><td>1.44</td><td>1.49</td><td>https://gwosc.org/eventapi/json/GWTC-2/GW190425/v2</td><td>/GWTC-2/</td><td>GWTC-2</td><td>0.3</td><td>None</td><td>None</td><td>-0.0006</td><td>None</td><td>0.02</td><td>70.0</td><td>None</td><td>-0.3</td><td>-0.3</td><td>0.06</td><td>-0.05</td><td>-0.02</td><td>0.03</td><td>0.000751854698112682</td><td>None</td><td>-0.02</td><td>None</td><td>2.0</td><td>None</td><td>1.4</td><td>160.0</td><td>0.6</td><td>2</td><td>3.4</td><td>-70.0</td><td>0.3</td><td>None</td><td>None</td><td>1240215503.0</td><td>None</td><td>0.0008</td><td>0.01</td><td>13.02922972476558</td></tr>\n",
       "<tr><td>GW190424_180648-v1</td><td>GW190424_180648</td><td>-10.7</td><td>0.22</td><td>31.0</td><td>43.4</td><td>https://gwosc.org/eventapi/json/GWTC-2/GW190424_180648/v1</td><td>/GWTC-2/</td><td>GWTC-2</td><td>13.3</td><td>None</td><td>12.4</td><td>-4.8</td><td>68.9</td><td>5.8</td><td>1580.0</td><td>-10.1</td><td>-7.3</td><td>-7.7</td><td>0.13</td><td>-0.22</td><td>-4.6</td><td>0.39</td><td>0.7822864941910456</td><td>None</td><td>-0.19</td><td>None</td><td>40.5</td><td>None</td><td>31.8</td><td>2200.0</td><td>11.1</td><td>1</td><td>72.6</td><td>-1160.0</td><td>7.6</td><td>0.906492</td><td>None</td><td>1240164426.1</td><td>None</td><td>6.0</td><td>0.23</td><td>10.0939769744873</td></tr>\n",
       "<tr><td>GW190421_213856-v1</td><td>GW190421_213856</td><td>-9.2</td><td>0.22</td><td>31.2</td><td>46.6</td><td>https://gwosc.org/eventapi/json/GWTC-2/GW190421_213856/v1</td><td>/GWTC-2/</td><td>GWTC-2</td><td>13.4</td><td>None</td><td>12.5</td><td>-6.0</td><td>69.7</td><td>5.9</td><td>1370.0</td><td>-8.7</td><td>-6.9</td><td>-8.8</td><td>-0.06</td><td>-0.27</td><td>-4.2</td><td>0.49</td><td>0.0007738314255311893</td><td>None</td><td>-0.21</td><td>None</td><td>41.3</td><td>None</td><td>31.9</td><td>2880.0</td><td>10.4</td><td>1</td><td>72.9</td><td>-1380.0</td><td>8.0</td><td>0.999768</td><td>None</td><td>1239917954.3</td><td>None</td><td>6.6</td><td>0.19</td><td>10.55069569549375</td></tr>\n",
       "<tr><td>GW190413_134308-v1</td><td>GW190413_134308</td><td>-11.9</td><td>0.25</td><td>33.0</td><td>57.0</td><td>https://gwosc.org/eventapi/json/GWTC-2/GW190413_134308/v1</td><td>/GWTC-2/</td><td>GWTC-2</td><td>17.4</td><td>None</td><td>16.4</td><td>-9.8</td><td>75.5</td><td>8.2</td><td>2480.0</td><td>-11.4</td><td>-10.7</td><td>-10.8</td><td>-0.03</td><td>-0.29</td><td>-5.4</td><td>0.71</td><td>0.043657319879159086</td><td>None</td><td>-0.3</td><td>None</td><td>47.5</td><td>None</td><td>31.8</td><td>4450.0</td><td>13.5</td><td>1</td><td>78.8</td><td>-2120.0</td><td>11.7</td><td>0.9849</td><td>None</td><td>1239198206.7</td><td>None</td><td>8.6</td><td>0.31</td><td>9.970916853163907</td></tr>\n",
       "<tr><td>GW190413_052954-v1</td><td>GW190413_052954</td><td>-9.7</td><td>0.29</td><td>24.6</td><td>39.4</td><td>https://gwosc.org/eventapi/json/GWTC-2/GW190413_052954/v1</td><td>/GWTC-2/</td><td>GWTC-2</td><td>13.3</td><td>None</td><td>12.5</td><td>-6.6</td><td>56.0</td><td>5.5</td><td>2270.0</td><td>-9.2</td><td>-8.1</td><td>-6.7</td><td>-0.01</td><td>-0.34</td><td>-4.1</td><td>0.59</td><td>0.07168326663702794</td><td>None</td><td>-0.24</td><td>None</td><td>34.7</td><td>None</td><td>23.7</td><td>3550.0</td><td>12.6</td><td>1</td><td>58.6</td><td>-1660.0</td><td>7.3</td><td>0.97779</td><td>None</td><td>1239168612.5</td><td>None</td><td>7.7</td><td>0.29</td><td>8.555396161858269</td></tr>\n",
       "<tr><td>GW190412-v3</td><td>GW190412</td><td>-3.7</td><td>0.08</td><td>13.3</td><td>15.2</td><td>https://gwosc.org/eventapi/json/GWTC-2/GW190412/v3</td><td>/GWTC-2/</td><td>GWTC-2</td><td>3.8</td><td>None</td><td>3.9</td><td>-0.2</td><td>37.3</td><td>0.4</td><td>140.0</td><td>-3.8</td><td>-5.1</td><td>-0.9</td><td>0.25</td><td>-0.11</td><td>-0.3</td><td>0.15</td><td>1e-05</td><td>None</td><td>-0.03</td><td>None</td><td>30.1</td><td>None</td><td>8.3</td><td>740.0</td><td>4.7</td><td>3</td><td>38.4</td><td>-170.0</td><td>1.6</td><td>1.0</td><td>None</td><td>1239082262.2</td><td>None</td><td>0.2</td><td>0.03</td><td>19.674587670393503</td></tr>\n",
       "<tr><td>GW190408_181802-v1</td><td>GW190408_181802</td><td>-3.0</td><td>0.14</td><td>18.3</td><td>23.7</td><td>https://gwosc.org/eventapi/json/GWTC-2/GW190408_181802/v1</td><td>/GWTC-2/</td><td>GWTC-2</td><td>4.2</td><td>None</td><td>3.9</td><td>-1.7</td><td>41.1</td><td>1.9</td><td>400.0</td><td>-2.8</td><td>-3.4</td><td>-3.6</td><td>-0.03</td><td>-0.19</td><td>-1.2</td><td>0.29</td><td>1e-05</td><td>None</td><td>-0.1</td><td>None</td><td>24.6</td><td>None</td><td>18.4</td><td>1550.0</td><td>5.1</td><td>1</td><td>43.0</td><td>-600.0</td><td>3.3</td><td>1.0</td><td>None</td><td>1238782700.3</td><td>None</td><td>1.4</td><td>0.06</td><td>14.79290708414002</td></tr>\n",
       "</table></div>"
      ],
      "text/plain": [
       "<EventTable masked=True length=39>\n",
       "       name           commonName   ... redshift_upper network_matched_filter_snr\n",
       "                                   ...                                          \n",
       "      str18             str15      ...    float64              float64          \n",
       "------------------ --------------- ... -------------- --------------------------\n",
       "GW190930_133541-v1 GW190930_133541 ...           0.06          10.01932734846673\n",
       "GW190929_012149-v1 GW190929_012149 ...           0.49          9.875628916044713\n",
       "GW190924_021846-v1 GW190924_021846 ...           0.04          13.15903752184739\n",
       "GW190915_235702-v1 GW190915_235702 ...           0.11          13.07209167194663\n",
       "GW190910_112807-v1 GW190910_112807 ...           0.16          13.41737344451953\n",
       "GW190909_114149-v1 GW190909_114149 ...           0.41                   9.047895\n",
       "GW190828_065509-v1 GW190828_065509 ...            0.1          11.12790886853085\n",
       "GW190828_063405-v1 GW190828_063405 ...            0.1         16.629603122143354\n",
       "       GW190814-v2        GW190814 ...          0.009          22.17523325999954\n",
       "               ...             ... ...            ...                        ...\n",
       "GW190512_180714-v1 GW190512_180714 ...           0.09          12.26449406234808\n",
       "GW190503_185404-v1 GW190503_185404 ...           0.11          12.20867275049248\n",
       "GW190426_152155-v1 GW190426_152155 ...           0.04          10.12041364677255\n",
       "       GW190425-v2        GW190425 ...           0.01          13.02922972476558\n",
       "GW190424_180648-v1 GW190424_180648 ...           0.23           10.0939769744873\n",
       "GW190421_213856-v1 GW190421_213856 ...           0.19          10.55069569549375\n",
       "GW190413_134308-v1 GW190413_134308 ...           0.31          9.970916853163907\n",
       "GW190413_052954-v1 GW190413_052954 ...           0.29          8.555396161858269\n",
       "       GW190412-v3        GW190412 ...           0.03         19.674587670393503\n",
       "GW190408_181802-v1 GW190408_181802 ...           0.06          14.79290708414002"
      ]
     },
     "execution_count": 1,
     "metadata": {},
     "output_type": "execute_result"
    }
   ],
   "source": [
    "from gwpy.table import EventTable\n",
    "events = EventTable.fetch_open_data(\"GWTC-2\")\n",
    "events"
   ]
  },
  {
   "cell_type": "code",
   "execution_count": null,
   "id": "c87162ab-f32d-46da-9773-9862cd9fda72",
   "metadata": {},
   "outputs": [],
   "source": []
  },
  {
   "cell_type": "code",
   "execution_count": null,
   "id": "813ee8e2-cea6-46eb-9286-066d0475d3e4",
   "metadata": {},
   "outputs": [],
   "source": []
  },
  {
   "cell_type": "code",
   "execution_count": null,
   "id": "fe1e401e-66f5-4f9f-ae69-7433b6a71e62",
   "metadata": {},
   "outputs": [],
   "source": []
  },
  {
   "cell_type": "code",
   "execution_count": null,
   "id": "14ef9f05-98b0-4c72-be08-1ce56de7e95e",
   "metadata": {},
   "outputs": [],
   "source": []
  },
  {
   "cell_type": "code",
   "execution_count": null,
   "id": "98965df1-e7ce-44ff-97a6-135d19841098",
   "metadata": {},
   "outputs": [],
   "source": []
  },
  {
   "cell_type": "code",
   "execution_count": null,
   "id": "73ea1296-e0c5-4782-8b94-fb20cadb38d4",
   "metadata": {},
   "outputs": [],
   "source": []
  },
  {
   "cell_type": "code",
   "execution_count": null,
   "id": "cee309d9-d34d-438c-8a6f-645e6dd61d0e",
   "metadata": {},
   "outputs": [],
   "source": []
  },
  {
   "cell_type": "code",
   "execution_count": null,
   "id": "f5747b68-6ede-48bb-9858-ae0f6f533bd2",
   "metadata": {},
   "outputs": [],
   "source": []
  }
 ],
 "metadata": {
  "kernelspec": {
   "display_name": "Python 3 (ipykernel)",
   "language": "python",
   "name": "python3"
  },
  "language_info": {
   "codemirror_mode": {
    "name": "ipython",
    "version": 3
   },
   "file_extension": ".py",
   "mimetype": "text/x-python",
   "name": "python",
   "nbconvert_exporter": "python",
   "pygments_lexer": "ipython3",
   "version": "3.11.4"
  }
 },
 "nbformat": 4,
 "nbformat_minor": 5
}
