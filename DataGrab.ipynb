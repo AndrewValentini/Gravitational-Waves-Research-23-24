{
 "cells": [
  {
   "cell_type": "markdown",
   "id": "8b0989a4-7dbf-44e0-9d46-425d946ed48f",
   "metadata": {},
   "source": [
    "Below is the code that was used to pull data from GWTC (https://gwosc.org/eventapi/html/GWTC/)"
   ]
  },
  {
   "cell_type": "code",
   "execution_count": 25,
   "id": "05dae71d-bdb1-48e6-b4c3-98f4d5690d7b",
   "metadata": {},
   "outputs": [],
   "source": [
    "from gwpy.table import EventTable\n",
    "import pandas as pd\n",
    "\n",
    "events = EventTable.fetch_open_data(\"GWTC-2\")\n",
    "events = EventTable.to_pandas(events)\n",
    "events.to_csv(\"Data/GWTC-2.csv\")\n",
    "\n",
    "# other examples: \"GWTC-2.1-auxiliary\", \"GWTC-2.1-confident\", \"GWTC-2.1-marginal\"\n"
   ]
  },
  {
   "cell_type": "code",
   "execution_count": 29,
   "id": "98965df1-e7ce-44ff-97a6-135d19841098",
   "metadata": {},
   "outputs": [],
   "source": [
    "# the data grab is exactly the same process for all observing runs:\n",
    "\n",
    "events = EventTable.fetch_open_data(\"GWTC-3-confident\")\n",
    "events = EventTable.to_pandas(events)\n",
    "events.to_csv(\"Data/GWTC-3-confident.csv\")"
   ]
  },
  {
   "cell_type": "code",
   "execution_count": 31,
   "id": "f20defa1",
   "metadata": {},
   "outputs": [],
   "source": [
    "# Creating a csv that contains both confident and marginal events in O1\n",
    "\n",
    "events_con = EventTable.fetch_open_data(\"GWTC-1-confident\")\n",
    "events_con = EventTable.to_pandas(events)\n",
    "events_con.to_csv(\"Data/GWTC-1-confident.csv\")\n",
    "GWTC1 = events_con\n",
    "\n",
    "events_mar = EventTable.fetch_open_data(\"GWTC-1-marginal\")\n",
    "events_mar = EventTable.to_pandas(events_mar)\n",
    "events_mar.to_csv(\"Data/GWTC-1-marginal.csv\")\n",
    "GWTC1 = pd.concat([GWTC1,events_mar])\n",
    "\n",
    "GWTC1.to_csv(\"Data/GWTC-1.csv\")"
   ]
  },
  {
   "cell_type": "code",
   "execution_count": 32,
   "id": "911f7080",
   "metadata": {},
   "outputs": [],
   "source": []
  },
  {
   "cell_type": "code",
   "execution_count": null,
   "id": "abd5dc71",
   "metadata": {},
   "outputs": [],
   "source": []
  },
  {
   "cell_type": "code",
   "execution_count": 33,
   "id": "cee309d9-d34d-438c-8a6f-645e6dd61d0e",
   "metadata": {},
   "outputs": [],
   "source": [
    "# These a\n",
    "\n",
    "events = EventTable.fetch_open_data(\"Initial_LIGO_Virgo\")\n",
    "events = EventTable.to_pandas(events)\n",
    "events.to_csv(\"Data/Initial_LIGO_Virgo.csv\")"
   ]
  },
  {
   "cell_type": "code",
   "execution_count": 34,
   "id": "f5747b68-6ede-48bb-9858-ae0f6f533bd2",
   "metadata": {},
   "outputs": [],
   "source": [
    "events = EventTable.fetch_open_data(\"O1_O2-Preliminary\")\n",
    "events = EventTable.to_pandas(events)\n",
    "events.to_csv(\"Data/O1_O2-Preliminary.csv\")"
   ]
  },
  {
   "cell_type": "code",
   "execution_count": 35,
   "id": "a974639a",
   "metadata": {},
   "outputs": [],
   "source": [
    "events = EventTable.fetch_open_data(\"O3_Discovery_Papers\")\n",
    "events = EventTable.to_pandas(events)\n",
    "events.to_csv(\"Data/O3_Discovery_Papers.csv\")"
   ]
  },
  {
   "cell_type": "code",
   "execution_count": 36,
   "id": "589a4ed8",
   "metadata": {},
   "outputs": [],
   "source": [
    "events = EventTable.fetch_open_data(\"O3_IMBH_marginal\")\n",
    "events = EventTable.to_pandas(events)\n",
    "events.to_csv(\"Data/O3_IMBH_marginal.csv\")"
   ]
  },
  {
   "cell_type": "markdown",
   "id": "1c973978",
   "metadata": {},
   "source": [
    "events = EventTable.fetch_open_data(\"\")\n",
    "events = EventTable.to_pandas(events)\n",
    "events.to_csv(\"Data/.csv\")"
   ]
  },
  {
   "cell_type": "markdown",
   "id": "a9239afc",
   "metadata": {},
   "source": []
  }
 ],
 "metadata": {
  "kernelspec": {
   "display_name": "Python 3 (ipykernel)",
   "language": "python",
   "name": "python3"
  },
  "language_info": {
   "codemirror_mode": {
    "name": "ipython",
    "version": 3
   },
   "file_extension": ".py",
   "mimetype": "text/x-python",
   "name": "python",
   "nbconvert_exporter": "python",
   "pygments_lexer": "ipython3",
   "version": "3.11.4"
  }
 },
 "nbformat": 4,
 "nbformat_minor": 5
}
