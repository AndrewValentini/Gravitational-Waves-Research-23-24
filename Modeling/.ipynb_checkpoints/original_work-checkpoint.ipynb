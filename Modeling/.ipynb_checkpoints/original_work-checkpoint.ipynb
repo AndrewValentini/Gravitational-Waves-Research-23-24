{
 "cells": [
  {
   "cell_type": "markdown",
   "id": "82eab0df-0333-4e27-a943-76988f1ff414",
   "metadata": {},
   "source": [
    "## The code below was developed by Will Schuster (Carthage College) in May of 2022\n",
    "\n",
    "Some ideas I would like to pursue with modifications to this code:\n",
    "\n",
    "1) Review the derivation that resulted in the frequency equation in the intro paper (https://arxiv.org/pdf/1608.01940.pdf) and make sure you understand each step. Could I try carrying this derivation out for modified theories of gravity? (get a frequency plot like the one use this code for a modified theory of gravity and see how it differs from GR's derivation... maybe there are regimes (high mass, low eccentricity, etc.) where these deivations are very noticable) \n",
    "   \n",
    "2) Would there be a way to quantify the difference between the GR-generated model and the observed data rather than just doing it by eye? How could we quantify how aligned the models are with the observed data? I'd assume that the real models used by LIGO employ NR methods so they would be much more accurate. Find how to get access to the underlying models for each merger so you can quantify a mismatch between its and your model over frequency space. \n"
   ]
  },
  {
   "cell_type": "code",
   "execution_count": null,
   "id": "55ffcf20-193b-4a54-9428-f25a585d4ec7",
   "metadata": {},
   "outputs": [],
   "source": [
    "from vpython import *\n",
    "#Web VPython 3.2\n",
    "\n",
    "#Rather than going through some reduced mass shenanigans, my code simply has one mass orbiting the other, and then the camera is set to follow the center of mass.\n",
    "#this is just as effective as the reduced mass variant, with much less work required. it's also much easier to change the code around without breaking everything\n",
    "#the glowscript VPython documentation has been very helpful, take a look at it if you haven't already.\n",
    "#while True: #the while True makes it so the loop repeats over and over. if you want to use it, uncomment in, highlight all the code, and press tab to push everything forward. also uncomment the scene.delete() line. this is very unstable. don't use it unless you can fix it\n",
    "scene = canvas(align = 'left')\n",
    "scene.lights = []\n",
    "scene.ambient = vector(1,1,1)\n",
    "gd = graph(title = 'Frequency vs Time', xtitle = 'Time (s)', ytitle = 'Frequency (1/s)', align = 'right', width = 500, height = 300)\n",
    "fgraph = gcurve(color=color.cyan)\n",
    "solarmass = 1.989e30\n",
    "\n",
    "m1 = 30.5*solarmass #mass 1\n",
    "m2 = 25.3*solarmass #mass 2\n",
    "initFreq = 100 #initial frequency. i prefer starting it around 100 hertz so the animation gets to the interesting part quicker\n",
    "maxOmega = 500 #maximum frequency\n",
    "M = m1+m2 \n",
    "mu = 1/(1/m1+1/m2)\n",
    "chirp = (mu**3*M**2)**(1/5)\n",
    "G = 6.67e-11\n",
    "c = 3e8\n",
    "omega = initFreq\n",
    "r = (G*M/omega**2)**(1/3) #kepler's third law\n",
    "x = r\n",
    "bh1 = sphere(pos=vector(0,0,0), radius=60000, color=color.black)#, make_trail = True)\n",
    "#the radius is VERY exaggerated. the black holes would be invisible otherwise\n",
    "bh2 = sphere(pos=vector(x,0,0), radius=60000, color=color.black)#, make_trail = True)\n",
    "CoMx = (m1*bh1.pos.x+m2*bh2.pos.x)/(m1+m2) #i dont remember how to select the x position of an object\n",
    "CoMy = (m1*bh1.pos.y+m2*bh2.pos.y)/(m1+m2) #i also dont remember how to select the y position of an object\n",
    "CoM = sphere(pos = vector(CoMx, CoMy,0), radius = 1, color = color.black)\n",
    "scene.range = 500000 #this basically just changes the initial zoom level of the scene\n",
    "scene.camera.follow(CoM) #this makes it so that the camera will stay on the center of mass\n",
    "scene.autoscale = False\n",
    "y = 0\n",
    "domega = 0\n",
    "dt = .00001 #dt is arbitrary. smaller values with larger rates will look smoother until the frequency gets very high\n",
    "t = 0\n",
    "background = box(pos = vector(CoMx, CoMy-100000, 0), length = 10000000, width = 1, height = 10000000, color = vector(.5,.5,.5))#texture = \"https://i.imgur.com/ejwCLOl.png\")#, emissive = True)\n",
    "#using the texture parameter sets texture of an object. using texture = \"some url\" lets you set it to a particular image. doesn't always work, idk why. i've had the most luck with imgur images\n",
    "while omega < maxOmega:\n",
    "    rate(3000)\n",
    "    domega = ((96/5)**3*(omega**11)/(c**15)*(G*chirp)**5)**(1/3)*dt #equation A5 in basic physics of gwaves paper\n",
    "    fgraph.plot(pos=(t, omega))\n",
    "    omega = omega+domega\n",
    "    r = (G*M/omega**2)**(1/3) #kepler's third law again\n",
    "    x = r*cos(omega*t)\n",
    "    y = r*sin(omega*t)\n",
    "    bh2.pos = vector(r*cos(omega*t), r*sin(omega*t), 0) #update position of orbiting black hole\n",
    "    CoM.pos = vector((m1*bh1.pos.x+m2*bh2.pos.x)/(m1+m2),(m1*bh1.pos.y+m2*bh2.pos.y)/(m1+m2),0)\n",
    "    background.pos = vector(CoM.pos.x, CoM.pos.y -100000, 0) #background position needs to be updated in order to keep it \"stationary\"\n",
    "    t = t+dt\n",
    "#scene.delete()"
   ]
  },
  {
   "cell_type": "code",
   "execution_count": null,
   "id": "a228fcc0-ecbe-4a7e-b0e3-7653e6e2b933",
   "metadata": {},
   "outputs": [],
   "source": []
  },
  {
   "cell_type": "code",
   "execution_count": null,
   "id": "27e5c666-0f21-43fd-8a61-bd4a1710f1a6",
   "metadata": {},
   "outputs": [],
   "source": []
  },
  {
   "cell_type": "code",
   "execution_count": null,
   "id": "81bb6a1e-fb0c-41ad-86b6-52169b4dbfb5",
   "metadata": {},
   "outputs": [],
   "source": []
  },
  {
   "cell_type": "code",
   "execution_count": null,
   "id": "641d4b34-e001-41b9-b318-98e21217c839",
   "metadata": {},
   "outputs": [],
   "source": []
  }
 ],
 "metadata": {
  "kernelspec": {
   "display_name": "Python 3 (ipykernel)",
   "language": "python",
   "name": "python3"
  },
  "language_info": {
   "codemirror_mode": {
    "name": "ipython",
    "version": 3
   },
   "file_extension": ".py",
   "mimetype": "text/x-python",
   "name": "python",
   "nbconvert_exporter": "python",
   "pygments_lexer": "ipython3",
   "version": "3.11.4"
  }
 },
 "nbformat": 4,
 "nbformat_minor": 5
}
