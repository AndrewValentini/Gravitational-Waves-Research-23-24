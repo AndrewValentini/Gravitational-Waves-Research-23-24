{
 "cells": [
  {
   "cell_type": "code",
   "execution_count": 1,
   "id": "81800337-0522-4f5f-9f9a-6822acef9bc6",
   "metadata": {},
   "outputs": [],
   "source": [
    "import pandas as pd\n",
    "import matplotlib.pyplot as plt\n",
    "import numpy"
   ]
  },
  {
   "cell_type": "code",
   "execution_count": 2,
   "id": "4c2ae6d8-9939-4246-97da-e751dfc6abe4",
   "metadata": {},
   "outputs": [],
   "source": [
    "O3 = pd.read_csv(\"../Data/GWTC-3.csv\")\n",
    "O4 = pd.read_csv(\"../Data/real_events_O4_ALL.csv\")"
   ]
  },
  {
   "cell_type": "code",
   "execution_count": 3,
   "id": "3ce2462c-92ce-4631-864a-f4e17276c25e",
   "metadata": {},
   "outputs": [
    {
     "data": {
      "text/plain": [
       "36"
      ]
     },
     "execution_count": 3,
     "metadata": {},
     "output_type": "execute_result"
    }
   ],
   "source": [
    "O3_indexes_to_remove = [35,36,37,38,39,41]\n",
    "\n",
    "O3 = O3.drop(O3_indexes_to_remove) \n",
    "len(O3)"
   ]
  },
  {
   "cell_type": "code",
   "execution_count": 4,
   "id": "9111164b-f434-42c6-a644-519d6e3283e5",
   "metadata": {},
   "outputs": [
    {
     "name": "stdout",
     "output_type": "stream",
     "text": [
      "3\n",
      "33\n"
     ]
    },
    {
     "name": "stderr",
     "output_type": "stream",
     "text": [
      "C:\\Users\\lucas\\AppData\\Local\\Temp\\ipykernel_38320\\1651915002.py:8: FutureWarning: The behavior of DataFrame concatenation with empty or all-NA entries is deprecated. In a future version, this will no longer exclude empty or all-NA columns when determining the result dtypes. To retain the old behavior, exclude the relevant entries before the concat operation.\n",
      "  O3_BBH = pd.concat([O3_BBH, pd.DataFrame([row])], ignore_index=True)\n",
      "C:\\Users\\lucas\\AppData\\Local\\Temp\\ipykernel_38320\\1651915002.py:6: FutureWarning: The behavior of DataFrame concatenation with empty or all-NA entries is deprecated. In a future version, this will no longer exclude empty or all-NA columns when determining the result dtypes. To retain the old behavior, exclude the relevant entries before the concat operation.\n",
      "  O3_BNS = pd.concat([O3_BNS, pd.DataFrame([row])], ignore_index=True)\n"
     ]
    }
   ],
   "source": [
    "O3_BNS = pd.DataFrame(columns=O3.columns)\n",
    "O3_BBH = pd.DataFrame(columns=O3.columns)\n",
    "\n",
    "for index, row in O3.iterrows():\n",
    "    if row[\"mass_1_source\"] < 2.16 or row[\"mass_2_source\"] < 2.16:\n",
    "        O3_BNS = pd.concat([O3_BNS, pd.DataFrame([row])], ignore_index=True)\n",
    "    if row[\"mass_1_source\"] >= 2.16 and row[\"mass_2_source\"] >= 2.16:\n",
    "        O3_BBH = pd.concat([O3_BBH, pd.DataFrame([row])], ignore_index=True)\n",
    "\n",
    "print(len(O3_BNS))\n",
    "print(len(O3_BBH))"
   ]
  },
  {
   "cell_type": "code",
   "execution_count": 5,
   "id": "542ef55e-de5f-4b49-a006-19e39a96f02e",
   "metadata": {},
   "outputs": [
    {
     "name": "stdout",
     "output_type": "stream",
     "text": [
      "1\n",
      "52\n"
     ]
    },
    {
     "name": "stderr",
     "output_type": "stream",
     "text": [
      "C:\\Users\\lucas\\AppData\\Local\\Temp\\ipykernel_38320\\438456172.py:8: FutureWarning: The behavior of DataFrame concatenation with empty or all-NA entries is deprecated. In a future version, this will no longer exclude empty or all-NA columns when determining the result dtypes. To retain the old behavior, exclude the relevant entries before the concat operation.\n",
      "  O4_BBH = pd.concat([O4_BBH, pd.DataFrame([row])], ignore_index=True)\n",
      "C:\\Users\\lucas\\AppData\\Local\\Temp\\ipykernel_38320\\438456172.py:6: FutureWarning: The behavior of DataFrame concatenation with empty or all-NA entries is deprecated. In a future version, this will no longer exclude empty or all-NA columns when determining the result dtypes. To retain the old behavior, exclude the relevant entries before the concat operation.\n",
      "  O4_BNS = pd.concat([O4_BNS, pd.DataFrame([row])], ignore_index=True)\n"
     ]
    }
   ],
   "source": [
    "O4_BNS = pd.DataFrame(columns=O4.columns)\n",
    "O4_BBH = pd.DataFrame(columns=O4.columns)\n",
    "\n",
    "for index, row in O4.iterrows():\n",
    "    if row[\"mass1\"] < 2.16 or row[\"mass2\"] < 2.16:\n",
    "        O4_BNS = pd.concat([O4_BNS, pd.DataFrame([row])], ignore_index=True)\n",
    "    if row[\"mass1\"] >= 2.16 and row[\"mass2\"] >= 2.16:\n",
    "        O4_BBH = pd.concat([O4_BBH, pd.DataFrame([row])], ignore_index=True)\n",
    "\n",
    "print(len(O4_BNS))\n",
    "print(len(O4_BBH))"
   ]
  },
  {
   "cell_type": "code",
   "execution_count": null,
   "id": "6afb0fb8-80ef-40fb-aa3b-18a2c78e5f90",
   "metadata": {},
   "outputs": [],
   "source": []
  },
  {
   "cell_type": "code",
   "execution_count": null,
   "id": "dd4e9a12-7e00-440c-b2a8-5cdb20c9d312",
   "metadata": {},
   "outputs": [],
   "source": []
  },
  {
   "cell_type": "code",
   "execution_count": null,
   "id": "a7f6d966-62aa-4cb8-808b-e0093e304ca7",
   "metadata": {},
   "outputs": [],
   "source": []
  },
  {
   "cell_type": "code",
   "execution_count": null,
   "id": "79efe1a2-e2e2-46fc-b006-b38797ede900",
   "metadata": {},
   "outputs": [],
   "source": []
  },
  {
   "cell_type": "code",
   "execution_count": null,
   "id": "fc050fd1-d294-4eec-86e6-15f510ee5beb",
   "metadata": {},
   "outputs": [],
   "source": []
  },
  {
   "cell_type": "code",
   "execution_count": null,
   "id": "f77e8508-58c8-44f5-9a2b-964ff83c5e45",
   "metadata": {},
   "outputs": [],
   "source": []
  }
 ],
 "metadata": {
  "kernelspec": {
   "display_name": "base",
   "language": "python",
   "name": "python3"
  },
  "language_info": {
   "codemirror_mode": {
    "name": "ipython",
    "version": 3
   },
   "file_extension": ".py",
   "mimetype": "text/x-python",
   "name": "python",
   "nbconvert_exporter": "python",
   "pygments_lexer": "ipython3",
   "version": "3.11.7"
  }
 },
 "nbformat": 4,
 "nbformat_minor": 5
}
