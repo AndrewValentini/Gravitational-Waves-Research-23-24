{
 "cells": [
  {
   "cell_type": "markdown",
   "id": "2c3ce666-c5b5-4ffd-a8bc-e8f8b2a74271",
   "metadata": {},
   "source": [
    "Note: O1-O3 data is coming from the GWTC1 - GWTC3 catalogs. O4 data is being pulled off of GraceDB (O3 can also be pulled off of GDB but we will use GWTC3 data instead since it contains luminosity distances.) "
   ]
  },
  {
   "cell_type": "code",
   "execution_count": 1,
   "id": "54b1eafd-68ff-45db-ae30-6b1ae6bd8c43",
   "metadata": {},
   "outputs": [],
   "source": [
    "import numpy as np \n",
    "import pandas as pd\n",
    "import matplotlib.pyplot as plt\n",
    "from sklearn.manifold import TSNE\n",
    "from sklearn.cluster import KMeans"
   ]
  },
  {
   "cell_type": "code",
   "execution_count": 2,
   "id": "3f99f7ff-38fe-42d7-b884-749271e36670",
   "metadata": {},
   "outputs": [],
   "source": [
    "#O1_all = pd.read_csv(\"../Data/GWTC-1.csv\")\n",
    "O2_all = pd.read_csv(\"../Data/GWTC-2.csv\")\n",
    "#O3_all = pd.read_csv(\"../Data/GWTC-3.csv\")\n",
    "O4_all = pd.read_csv(\"../Data/real_events_O4_ALL.csv\")"
   ]
  },
  {
   "cell_type": "code",
   "execution_count": null,
   "id": "54d86824-018c-4461-8e22-eb6eb5aa4e2f",
   "metadata": {},
   "outputs": [],
   "source": []
  },
  {
   "cell_type": "code",
   "execution_count": null,
   "id": "d134e305-2017-4f67-a9d2-a4fa90a276d7",
   "metadata": {},
   "outputs": [],
   "source": []
  },
  {
   "cell_type": "code",
   "execution_count": null,
   "id": "cee56343-7755-4990-bb96-d8503c70b5f3",
   "metadata": {},
   "outputs": [],
   "source": []
  },
  {
   "cell_type": "code",
   "execution_count": null,
   "id": "8194cfa2-0444-4574-a3fa-7a6744428f56",
   "metadata": {},
   "outputs": [],
   "source": []
  },
  {
   "cell_type": "code",
   "execution_count": null,
   "id": "1f01dc5c-9f0e-4a90-a12f-8da7668f02b4",
   "metadata": {},
   "outputs": [],
   "source": []
  },
  {
   "cell_type": "code",
   "execution_count": null,
   "id": "64db87d1-a9d8-44cd-bc89-4b1466e5e85d",
   "metadata": {},
   "outputs": [],
   "source": []
  },
  {
   "cell_type": "code",
   "execution_count": null,
   "id": "226caef1-8c31-4a6b-9c53-d14f09261312",
   "metadata": {},
   "outputs": [],
   "source": []
  },
  {
   "cell_type": "code",
   "execution_count": null,
   "id": "a74d0583-da80-4d4b-a82a-aa1643b2b4a9",
   "metadata": {},
   "outputs": [],
   "source": []
  },
  {
   "cell_type": "code",
   "execution_count": null,
   "id": "2f2adeb8-0653-4e6e-ac69-592d142fe111",
   "metadata": {},
   "outputs": [],
   "source": []
  }
 ],
 "metadata": {
  "kernelspec": {
   "display_name": "Python 3 (ipykernel)",
   "language": "python",
   "name": "python3"
  },
  "language_info": {
   "codemirror_mode": {
    "name": "ipython",
    "version": 3
   },
   "file_extension": ".py",
   "mimetype": "text/x-python",
   "name": "python",
   "nbconvert_exporter": "python",
   "pygments_lexer": "ipython3",
   "version": "3.11.4"
  }
 },
 "nbformat": 4,
 "nbformat_minor": 5
}
