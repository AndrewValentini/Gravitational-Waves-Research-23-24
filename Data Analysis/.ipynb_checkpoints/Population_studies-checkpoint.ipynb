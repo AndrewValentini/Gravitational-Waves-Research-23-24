{
 "cells": [
  {
   "cell_type": "markdown",
   "id": "79e344a1-839d-4ee7-a3e3-255a9f89606f",
   "metadata": {},
   "source": [
    "## In this code, I will repeat the work Lucas has done in the Regression file for individual data sets. \n",
    "\n",
    "O1 does not have many rows of data available so it may be excluded for now. \n",
    "\n",
    "I will likley only be looking at the differences between O2 and O3 since they have reasonable amount of data and both have luminosity distances (O4 doesn't have this for whatever reason)"
   ]
  },
  {
   "cell_type": "code",
   "execution_count": null,
   "id": "c02826ab-7428-4519-a3ea-3c3eab463d71",
   "metadata": {},
   "outputs": [],
   "source": []
  },
  {
   "cell_type": "code",
   "execution_count": null,
   "id": "b14d1fb1-174a-4f17-8de8-0943bcc7e9b9",
   "metadata": {},
   "outputs": [],
   "source": []
  },
  {
   "cell_type": "code",
   "execution_count": null,
   "id": "95c45a99-4f38-4114-95fc-94688a73816f",
   "metadata": {},
   "outputs": [],
   "source": []
  },
  {
   "cell_type": "code",
   "execution_count": null,
   "id": "c3072560-62a1-4697-9f57-59d3b1b91c37",
   "metadata": {},
   "outputs": [],
   "source": []
  },
  {
   "cell_type": "code",
   "execution_count": null,
   "id": "b728a396-971e-4145-8fa9-a36d0acdabee",
   "metadata": {},
   "outputs": [],
   "source": []
  },
  {
   "cell_type": "code",
   "execution_count": null,
   "id": "3fe843d0-6df8-4711-8bd0-b82510a1e5c7",
   "metadata": {},
   "outputs": [],
   "source": []
  },
  {
   "cell_type": "code",
   "execution_count": null,
   "id": "afbe0b01-e7b2-426a-ba95-ceb890f23cba",
   "metadata": {},
   "outputs": [],
   "source": []
  },
  {
   "cell_type": "code",
   "execution_count": null,
   "id": "c66de7ff-fafa-48c8-a7d4-45ae71403a64",
   "metadata": {},
   "outputs": [],
   "source": []
  },
  {
   "cell_type": "code",
   "execution_count": null,
   "id": "c1f0b8e3-ed2a-49fe-ba6b-14a088ed4a00",
   "metadata": {},
   "outputs": [],
   "source": []
  }
 ],
 "metadata": {
  "kernelspec": {
   "display_name": "Python 3 (ipykernel)",
   "language": "python",
   "name": "python3"
  },
  "language_info": {
   "codemirror_mode": {
    "name": "ipython",
    "version": 3
   },
   "file_extension": ".py",
   "mimetype": "text/x-python",
   "name": "python",
   "nbconvert_exporter": "python",
   "pygments_lexer": "ipython3",
   "version": "3.11.4"
  }
 },
 "nbformat": 4,
 "nbformat_minor": 5
}
