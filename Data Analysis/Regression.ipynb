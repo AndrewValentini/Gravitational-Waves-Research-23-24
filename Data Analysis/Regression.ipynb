{
 "cells": [
  {
   "cell_type": "code",
   "execution_count": 153,
   "metadata": {},
   "outputs": [],
   "source": [
    "from sklearn.ensemble import RandomForestRegressor\n",
    "from sklearn.model_selection import train_test_split\n",
    "import sklearn.metrics as sm\n",
    "\n",
    "import pandas as pd\n",
    "import numpy as np\n",
    "import matplotlib.pyplot as plt"
   ]
  },
  {
   "cell_type": "code",
   "execution_count": 154,
   "metadata": {},
   "outputs": [],
   "source": [
    "# converts name to GW###### format for visualization purposes\n",
    "def simplify_name(name):\n",
    "    if str.startswith(name, \"GW\"):\n",
    "        return \"GW\" + name[2:8]\n",
    "    return \"GW\" + name[0:6]\n",
    "\n",
    "# extracts version number from name\n",
    "def extract_version(name):\n",
    "    return name[-1:]\n",
    "\n",
    "# extracts confidence from catalog.shortName\n",
    "def extract_group(shortname):\n",
    "    if \"2.1\" in shortname:\n",
    "        return shortname[9:]\n",
    "    return shortname[7:]\n",
    "\n",
    "# gets confidence number of group\n",
    "def extract_confidence(group):\n",
    "    if group == \"confident\":\n",
    "        return 3\n",
    "    if group == \"marginal\":\n",
    "        return 2\n",
    "    if group == \"auxiliary\":\n",
    "        return 1\n",
    "    return 0"
   ]
  },
  {
   "cell_type": "code",
   "execution_count": 155,
   "metadata": {},
   "outputs": [],
   "source": [
    "O3_all = pd.read_csv(\"../Data/GWTC-3.csv\")\n",
    "O3_all[\"simple_name\"] = np.array([simplify_name(name) for name in O3_all[\"name\"]])\n",
    "O3_all[\"group\"] = np.array([3 for _ in range(O3_all[\"name\"].size)])\n",
    "O3_all[\"catalog\"] = np.array([extract_group(shortname) for shortname in O3_all[\"catalog.shortName\"]])\n",
    "O3_all[\"confidence\"] = np.array([extract_confidence(group) for group in O3_all[\"catalog\"]])\n",
    "O3_all[\"group_name\"] = np.array([\"O\" + str(group) for group in O3_all[\"group\"]])\n",
    "O3_all = O3_all[[\"name\", \"simple_name\", \"catalog\", \"confidence\", \"version\", \"group_name\", \"group\", \"GPS\", \"far\", \"network_matched_filter_snr\", \"mass_1_source\", \"mass_2_source\", \"chirp_mass_source\", \"redshift\", \"luminosity_distance\"]]\n",
    "O3_all = O3_all.rename(columns={\"network_matched_filter_snr\": \"snr\", \"GPS\": \"gps\", \"mass_1_source\": \"mass1\", \"mass_2_source\": \"mass2\", \"chirp_mass_source\": \"chirp_mass\", \"combined_far\": \"far\"})"
   ]
  },
  {
   "cell_type": "code",
   "execution_count": 156,
   "metadata": {},
   "outputs": [],
   "source": [
    "O2_confident = pd.read_csv(\"../Data/GWTC-2_1-confident.csv\")\n",
    "O2_confident[\"simple_name\"] = np.array([simplify_name(name) for name in O2_confident[\"name\"]])\n",
    "O2_confident[\"group\"] = np.array([2 for _ in range(O2_confident[\"name\"].size)])\n",
    "O2_confident[\"group_name\"] = np.array([\"O\" + str(group) for group in O2_confident[\"group\"]])\n",
    "O2_confident[\"catalog\"] = np.array([extract_group(shortname) for shortname in O2_confident[\"catalog.shortName\"]])\n",
    "O2_confident[\"confidence\"] = np.array([extract_confidence(group) for group in O2_confident[\"catalog\"]])\n",
    "O2_confident = O2_confident[[\"name\", \"simple_name\", \"catalog\", \"confidence\", \"version\", \"group_name\", \"group\", \"GPS\", \"far\", \"network_matched_filter_snr\", \"mass_1_source\", \"mass_2_source\", \"chirp_mass_source\", \"redshift\", \"luminosity_distance\"]]\n",
    "O2_confident = O2_confident.rename(columns={\"network_matched_filter_snr\": \"snr\", \"GPS\": \"gps\", \"mass_1_source\": \"mass1\", \"mass_2_source\": \"mass2\", \"chirp_mass_source\": \"chirp_mass\", \"combined_far\": \"far\"})"
   ]
  },
  {
   "cell_type": "code",
   "execution_count": 157,
   "metadata": {},
   "outputs": [],
   "source": [
    "O2_marginal = pd.read_csv(\"../Data/GWTC-2_1-marginal.csv\")\n",
    "O2_marginal[\"simple_name\"] = np.array([simplify_name(name) for name in O2_marginal[\"name\"]])\n",
    "O2_marginal[\"group\"] = np.array([2 for _ in range(O2_marginal[\"name\"].size)])\n",
    "O2_marginal[\"group_name\"] = np.array([\"O\" + str(group) for group in O2_marginal[\"group\"]])\n",
    "O2_marginal[\"catalog\"] = np.array([extract_group(shortname) for shortname in O2_marginal[\"catalog.shortName\"]])\n",
    "O2_marginal[\"confidence\"] = np.array([extract_confidence(group) for group in O2_marginal[\"catalog\"]])\n",
    "O2_marginal = O2_marginal[[\"name\", \"simple_name\", \"catalog\", \"confidence\", \"version\", \"group_name\", \"group\", \"GPS\", \"far\", \"network_matched_filter_snr\", \"mass_1_source\", \"mass_2_source\", \"chirp_mass_source\", \"redshift\", \"luminosity_distance\"]]\n",
    "O2_marginal = O2_marginal.rename(columns={\"network_matched_filter_snr\": \"snr\", \"GPS\": \"gps\", \"mass_1_source\": \"mass1\", \"mass_2_source\": \"mass2\", \"chirp_mass_source\": \"chirp_mass\", \"combined_far\": \"far\"})"
   ]
  },
  {
   "cell_type": "code",
   "execution_count": 158,
   "metadata": {},
   "outputs": [],
   "source": [
    "O2_auxiliary = pd.read_csv(\"../Data/GWTC-2_1-auxiliary.csv\")\n",
    "O2_auxiliary[\"simple_name\"] = np.array([simplify_name(name) for name in O2_auxiliary[\"name\"]])\n",
    "O2_auxiliary[\"group\"] = np.array([2 for _ in range(O2_auxiliary[\"name\"].size)])\n",
    "O2_auxiliary[\"group_name\"] = np.array([\"O\" + str(group) for group in O2_auxiliary[\"group\"]])\n",
    "O2_auxiliary[\"catalog\"] = np.array([extract_group(shortname) for shortname in O2_auxiliary[\"catalog.shortName\"]])\n",
    "O2_auxiliary[\"confidence\"] = np.array([extract_confidence(group) for group in O2_auxiliary[\"catalog\"]])\n",
    "O2_auxiliary = O2_auxiliary[[\"name\", \"simple_name\", \"catalog\", \"confidence\", \"version\", \"group_name\", \"group\", \"GPS\", \"far\", \"network_matched_filter_snr\", \"mass_1_source\", \"mass_2_source\", \"chirp_mass_source\", \"redshift\", \"luminosity_distance\"]]\n",
    "O2_auxiliary = O2_auxiliary.rename(columns={\"network_matched_filter_snr\": \"snr\", \"GPS\": \"gps\", \"mass_1_source\": \"mass1\", \"mass_2_source\": \"mass2\", \"chirp_mass_source\": \"chirp_mass\", \"combined_far\": \"far\"})"
   ]
  },
  {
   "cell_type": "code",
   "execution_count": 159,
   "metadata": {},
   "outputs": [],
   "source": [
    "O1_all = pd.read_csv(\"../Data/GWTC-3.csv\")\n",
    "O1_all[\"simple_name\"] = np.array([simplify_name(name) for name in O1_all[\"name\"]])\n",
    "O1_all[\"group\"] = np.array([1 for _ in range(O1_all[\"name\"].size)])\n",
    "O1_all[\"catalog\"] = np.array([extract_group(shortname) for shortname in O1_all[\"catalog.shortName\"]])\n",
    "O1_all[\"confidence\"] = np.array([extract_confidence(group) for group in O1_all[\"catalog\"]])\n",
    "O1_all[\"group_name\"] = np.array([\"O\" + str(group) for group in O1_all[\"group\"]])\n",
    "O1_all = O1_all[[\"name\", \"simple_name\", \"catalog\", \"confidence\", \"version\", \"group_name\", \"group\", \"GPS\", \"far\", \"network_matched_filter_snr\", \"mass_1_source\", \"mass_2_source\", \"chirp_mass_source\", \"redshift\", \"luminosity_distance\"]]\n",
    "O1_all = O1_all.rename(columns={\"network_matched_filter_snr\": \"snr\", \"GPS\": \"gps\", \"mass_1_source\": \"mass1\", \"mass_2_source\": \"mass2\", \"chirp_mass_source\": \"chirp_mass\", \"combined_far\": \"far\"})"
   ]
  },
  {
   "cell_type": "code",
   "execution_count": 160,
   "metadata": {},
   "outputs": [
    {
     "name": "stderr",
     "output_type": "stream",
     "text": [
      "C:\\Users\\lucas\\AppData\\Local\\Temp\\ipykernel_11892\\3257666824.py:2: FutureWarning: The frame.append method is deprecated and will be removed from pandas in a future version. Use pandas.concat instead.\n",
      "  observations = observations.append(O2_confident)\n",
      "C:\\Users\\lucas\\AppData\\Local\\Temp\\ipykernel_11892\\3257666824.py:3: FutureWarning: The frame.append method is deprecated and will be removed from pandas in a future version. Use pandas.concat instead.\n",
      "  observations = observations.append(O2_marginal)\n",
      "C:\\Users\\lucas\\AppData\\Local\\Temp\\ipykernel_11892\\3257666824.py:4: FutureWarning: The frame.append method is deprecated and will be removed from pandas in a future version. Use pandas.concat instead.\n",
      "  observations = observations.append(O2_auxiliary)\n",
      "C:\\Users\\lucas\\AppData\\Local\\Temp\\ipykernel_11892\\3257666824.py:5: FutureWarning: The frame.append method is deprecated and will be removed from pandas in a future version. Use pandas.concat instead.\n",
      "  observations = observations.append(O1_all)\n"
     ]
    }
   ],
   "source": [
    "observations = O3_all\n",
    "observations = observations.append(O2_confident)\n",
    "observations = observations.append(O2_marginal)\n",
    "observations = observations.append(O2_auxiliary)\n",
    "observations = observations.append(O1_all)"
   ]
  },
  {
   "cell_type": "markdown",
   "metadata": {},
   "source": [
    "Cleaned data format:<br>\n",
    "name : full name of observation<br>\n",
    "simple_name : simplified name of form GW######<br>\n",
    "catalog : the catalog name of the observation<br>\n",
    "confidence : 1. auxiliary group, 2. marginal group, 3. confident group<br>\n",
    "version : version number of observation<br>\n",
    "group_name : observation group the observation is from, i.e., O1, O2, O3<br>\n",
    "group : the observation group number<br>\n",
    "gps : the position in the LIGO raw data that the observation is found (?)<br>\n",
    "far : (?)<br>\n",
    "snr : signal to noise ratio<br>\n",
    "mass1 and mass2 : predicted masses of the two objects involved in the observation<br>\n",
    "chirp_mass : chirp_mass of the two objects involved in the observation<br>\n",
    "redshift : redshift of the obsevation<br>\n",
    "luminosity_distance : luminosity distance of the obsevation<br>"
   ]
  },
  {
   "cell_type": "code",
   "execution_count": 161,
   "metadata": {},
   "outputs": [],
   "source": [
    "confident = observations[observations['confidence'] == 3]"
   ]
  },
  {
   "cell_type": "code",
   "execution_count": 162,
   "metadata": {},
   "outputs": [],
   "source": [
    "X = confident[[\"mass1\", \"mass2\", \"snr\", \"far\", \"chirp_mass\"]].to_numpy()\n",
    "y = np.array(confident[\"luminosity_distance\"]).reshape(-1, 1)\n",
    "\n",
    "X_train, X_test, y_train, y_test = train_test_split(X, y, test_size=0.25, random_state=42)\n",
    "y_train = y_train.reshape(-1)\n",
    "y_test = y_test.reshape(-1)"
   ]
  },
  {
   "cell_type": "markdown",
   "metadata": {},
   "source": [
    "setting aside 25% of observations for testing"
   ]
  },
  {
   "cell_type": "code",
   "execution_count": 163,
   "metadata": {},
   "outputs": [
    {
     "data": {
      "text/html": [
       "<style>#sk-container-id-6 {color: black;}#sk-container-id-6 pre{padding: 0;}#sk-container-id-6 div.sk-toggleable {background-color: white;}#sk-container-id-6 label.sk-toggleable__label {cursor: pointer;display: block;width: 100%;margin-bottom: 0;padding: 0.3em;box-sizing: border-box;text-align: center;}#sk-container-id-6 label.sk-toggleable__label-arrow:before {content: \"▸\";float: left;margin-right: 0.25em;color: #696969;}#sk-container-id-6 label.sk-toggleable__label-arrow:hover:before {color: black;}#sk-container-id-6 div.sk-estimator:hover label.sk-toggleable__label-arrow:before {color: black;}#sk-container-id-6 div.sk-toggleable__content {max-height: 0;max-width: 0;overflow: hidden;text-align: left;background-color: #f0f8ff;}#sk-container-id-6 div.sk-toggleable__content pre {margin: 0.2em;color: black;border-radius: 0.25em;background-color: #f0f8ff;}#sk-container-id-6 input.sk-toggleable__control:checked~div.sk-toggleable__content {max-height: 200px;max-width: 100%;overflow: auto;}#sk-container-id-6 input.sk-toggleable__control:checked~label.sk-toggleable__label-arrow:before {content: \"▾\";}#sk-container-id-6 div.sk-estimator input.sk-toggleable__control:checked~label.sk-toggleable__label {background-color: #d4ebff;}#sk-container-id-6 div.sk-label input.sk-toggleable__control:checked~label.sk-toggleable__label {background-color: #d4ebff;}#sk-container-id-6 input.sk-hidden--visually {border: 0;clip: rect(1px 1px 1px 1px);clip: rect(1px, 1px, 1px, 1px);height: 1px;margin: -1px;overflow: hidden;padding: 0;position: absolute;width: 1px;}#sk-container-id-6 div.sk-estimator {font-family: monospace;background-color: #f0f8ff;border: 1px dotted black;border-radius: 0.25em;box-sizing: border-box;margin-bottom: 0.5em;}#sk-container-id-6 div.sk-estimator:hover {background-color: #d4ebff;}#sk-container-id-6 div.sk-parallel-item::after {content: \"\";width: 100%;border-bottom: 1px solid gray;flex-grow: 1;}#sk-container-id-6 div.sk-label:hover label.sk-toggleable__label {background-color: #d4ebff;}#sk-container-id-6 div.sk-serial::before {content: \"\";position: absolute;border-left: 1px solid gray;box-sizing: border-box;top: 0;bottom: 0;left: 50%;z-index: 0;}#sk-container-id-6 div.sk-serial {display: flex;flex-direction: column;align-items: center;background-color: white;padding-right: 0.2em;padding-left: 0.2em;position: relative;}#sk-container-id-6 div.sk-item {position: relative;z-index: 1;}#sk-container-id-6 div.sk-parallel {display: flex;align-items: stretch;justify-content: center;background-color: white;position: relative;}#sk-container-id-6 div.sk-item::before, #sk-container-id-6 div.sk-parallel-item::before {content: \"\";position: absolute;border-left: 1px solid gray;box-sizing: border-box;top: 0;bottom: 0;left: 50%;z-index: -1;}#sk-container-id-6 div.sk-parallel-item {display: flex;flex-direction: column;z-index: 1;position: relative;background-color: white;}#sk-container-id-6 div.sk-parallel-item:first-child::after {align-self: flex-end;width: 50%;}#sk-container-id-6 div.sk-parallel-item:last-child::after {align-self: flex-start;width: 50%;}#sk-container-id-6 div.sk-parallel-item:only-child::after {width: 0;}#sk-container-id-6 div.sk-dashed-wrapped {border: 1px dashed gray;margin: 0 0.4em 0.5em 0.4em;box-sizing: border-box;padding-bottom: 0.4em;background-color: white;}#sk-container-id-6 div.sk-label label {font-family: monospace;font-weight: bold;display: inline-block;line-height: 1.2em;}#sk-container-id-6 div.sk-label-container {text-align: center;}#sk-container-id-6 div.sk-container {/* jupyter's `normalize.less` sets `[hidden] { display: none; }` but bootstrap.min.css set `[hidden] { display: none !important; }` so we also need the `!important` here to be able to override the default hidden behavior on the sphinx rendered scikit-learn.org. See: https://github.com/scikit-learn/scikit-learn/issues/21755 */display: inline-block !important;position: relative;}#sk-container-id-6 div.sk-text-repr-fallback {display: none;}</style><div id=\"sk-container-id-6\" class=\"sk-top-container\"><div class=\"sk-text-repr-fallback\"><pre>RandomForestRegressor(max_features=&#x27;sqrt&#x27;, min_samples_split=3, n_estimators=10,\n",
       "                      random_state=42)</pre><b>In a Jupyter environment, please rerun this cell to show the HTML representation or trust the notebook. <br />On GitHub, the HTML representation is unable to render, please try loading this page with nbviewer.org.</b></div><div class=\"sk-container\" hidden><div class=\"sk-item\"><div class=\"sk-estimator sk-toggleable\"><input class=\"sk-toggleable__control sk-hidden--visually\" id=\"sk-estimator-id-6\" type=\"checkbox\" checked><label for=\"sk-estimator-id-6\" class=\"sk-toggleable__label sk-toggleable__label-arrow\">RandomForestRegressor</label><div class=\"sk-toggleable__content\"><pre>RandomForestRegressor(max_features=&#x27;sqrt&#x27;, min_samples_split=3, n_estimators=10,\n",
       "                      random_state=42)</pre></div></div></div></div></div>"
      ],
      "text/plain": [
       "RandomForestRegressor(max_features='sqrt', min_samples_split=3, n_estimators=10,\n",
       "                      random_state=42)"
      ]
     },
     "execution_count": 163,
     "metadata": {},
     "output_type": "execute_result"
    }
   ],
   "source": [
    "rf = RandomForestRegressor(n_estimators = 10,\n",
    "                           random_state = 42,\n",
    "                           min_samples_split = 3,\n",
    "                           max_features = \"sqrt\",\n",
    "                           bootstrap = True)\n",
    "\n",
    "rf.fit(X_train, y_train)"
   ]
  },
  {
   "cell_type": "code",
   "execution_count": 164,
   "metadata": {},
   "outputs": [
    {
     "name": "stdout",
     "output_type": "stream",
     "text": [
      "Mean absolute error = 400.95\n",
      "Mean squared error = 380403.15\n",
      "Median absolute error = 323.67\n",
      "Explain variance score = 0.8\n",
      "R2 score = 0.8\n"
     ]
    }
   ],
   "source": [
    "y_test_pred = rf.predict(X_test)\n",
    "\n",
    "print(\"Mean absolute error =\", round(sm.mean_absolute_error(y_test, y_test_pred), 2)) \n",
    "print(\"Mean squared error =\", round(sm.mean_squared_error(y_test, y_test_pred), 2)) \n",
    "print(\"Median absolute error =\", round(sm.median_absolute_error(y_test, y_test_pred), 2)) \n",
    "print(\"Explain variance score =\", round(sm.explained_variance_score(y_test, y_test_pred), 2)) \n",
    "print(\"R2 score =\", round(sm.r2_score(y_test, y_test_pred), 2))"
   ]
  },
  {
   "cell_type": "markdown",
   "metadata": {},
   "source": [
    "Metrics:\n",
    "- **Mean absolute error**: This is the average of absolute errors of all the data points in the given dataset.\n",
    "- **Mean squared error**: This is the average of the squares of the errors of all the data points in the given dataset. It is one of the most popular metrics out there!\n",
    "- **Median absolute error**: This is the median of all the errors in the given dataset. The main advantage of this metric is that it's robust to outliers. A single bad point in the test dataset wouldn't skew the entire error metric, as opposed to a mean error metric.\n",
    "- **Explained variance score**: This score measures how well our model can account for the variation in our dataset. A score of 1.0 indicates that our model is perfect.\n",
    "- **R2 score**: This is pronounced as R-squared, and this score refers to the coefficient of determination. This tells us how well the unknown samples will be predicted by our model. The best possible score is 1.0, but the score can be negative as well."
   ]
  },
  {
   "cell_type": "code",
   "execution_count": null,
   "metadata": {},
   "outputs": [],
   "source": []
  },
  {
   "cell_type": "code",
   "execution_count": null,
   "metadata": {},
   "outputs": [],
   "source": []
  }
 ],
 "metadata": {
  "kernelspec": {
   "display_name": "base",
   "language": "python",
   "name": "python3"
  },
  "language_info": {
   "codemirror_mode": {
    "name": "ipython",
    "version": 3
   },
   "file_extension": ".py",
   "mimetype": "text/x-python",
   "name": "python",
   "nbconvert_exporter": "python",
   "pygments_lexer": "ipython3",
   "version": "3.11.4"
  }
 },
 "nbformat": 4,
 "nbformat_minor": 2
}
