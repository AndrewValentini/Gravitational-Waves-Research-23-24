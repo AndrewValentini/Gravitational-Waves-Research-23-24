{
 "cells": [
  {
   "cell_type": "code",
   "execution_count": 2,
   "id": "6fe2bd5e-bae0-456a-ba93-9109a480df9f",
   "metadata": {},
   "outputs": [],
   "source": [
    "import numpy as np \n",
    "import pandas as pd\n",
    "import matplotlib.pyplot as plt\n",
    "from sklearn.manifold import TSNE"
   ]
  },
  {
   "cell_type": "code",
   "execution_count": 5,
   "id": "2a866b8f-dd12-4ce3-9ba8-2edcb7af5517",
   "metadata": {},
   "outputs": [],
   "source": [
    "O3_all = pd.read_csv(\"../Data/real_events_O3_ALL.csv\")\n",
    "O4_all = pd.read_csv(\"../Data/real_events_O4_ALL.csv\")"
   ]
  },
  {
   "cell_type": "code",
   "execution_count": 6,
   "id": "5242aed5-6d7e-4538-9e11-59dd3efc2974",
   "metadata": {},
   "outputs": [],
   "source": [
    "keep = [\"chirp_mass\", \"combined_far\", \"mass1\", \"mass2\", \"snr\", \"spin1z\", \"spin2z\", \"coalescence_phase\", \"template_duration\"]\n",
    "O3_all_reduced = O3_all[keep]\n",
    "O4_all_reduced = O4_all[keep]\n",
    "# Removed : none"
   ]
  },
  {
   "cell_type": "code",
   "execution_count": 8,
   "id": "bbd63ca8-eacf-4771-9824-b6abda83e6fb",
   "metadata": {},
   "outputs": [
    {
     "ename": "NameError",
     "evalue": "name 'tsne_o4' is not defined",
     "output_type": "error",
     "traceback": [
      "\u001b[1;31m---------------------------------------------------------------------------\u001b[0m",
      "\u001b[1;31mNameError\u001b[0m                                 Traceback (most recent call last)",
      "\u001b[1;32mc:\\Users\\hirok\\OneDrive\\Documents\\GitHub\\Gravitational-Waves-Research-23-24\\.ipynb_checkpoints\\t-SNE-checkpoint.ipynb Cell 4\u001b[0m line \u001b[0;36m1\n\u001b[0;32m     <a href='vscode-notebook-cell:/c%3A/Users/hirok/OneDrive/Documents/GitHub/Gravitational-Waves-Research-23-24/.ipynb_checkpoints/t-SNE-checkpoint.ipynb#W3sZmlsZQ%3D%3D?line=9'>10</a>\u001b[0m \u001b[39m# This creates a 2 - dimensional df that will later be used for plotting\u001b[39;00m\n\u001b[0;32m     <a href='vscode-notebook-cell:/c%3A/Users/hirok/OneDrive/Documents/GitHub/Gravitational-Waves-Research-23-24/.ipynb_checkpoints/t-SNE-checkpoint.ipynb#W3sZmlsZQ%3D%3D?line=11'>12</a>\u001b[0m tsne_O4 \u001b[39m=\u001b[39m TSNE(n_components\u001b[39m=\u001b[39m\u001b[39m2\u001b[39m, random_state\u001b[39m=\u001b[39m\u001b[39m42\u001b[39m)\n\u001b[1;32m---> <a href='vscode-notebook-cell:/c%3A/Users/hirok/OneDrive/Documents/GitHub/Gravitational-Waves-Research-23-24/.ipynb_checkpoints/t-SNE-checkpoint.ipynb#W3sZmlsZQ%3D%3D?line=12'>13</a>\u001b[0m X_tsne_O4 \u001b[39m=\u001b[39m tsne_o4\u001b[39m.\u001b[39mfit_transform(O4_all_reduced)\n\u001b[0;32m     <a href='vscode-notebook-cell:/c%3A/Users/hirok/OneDrive/Documents/GitHub/Gravitational-Waves-Research-23-24/.ipynb_checkpoints/t-SNE-checkpoint.ipynb#W3sZmlsZQ%3D%3D?line=14'>15</a>\u001b[0m fig, ax \u001b[39m=\u001b[39m plt\u001b[39m.\u001b[39msubplots(\u001b[39m1\u001b[39m, \u001b[39m1\u001b[39m, figsize\u001b[39m=\u001b[39m(\u001b[39m5\u001b[39m, \u001b[39m5\u001b[39m), dpi \u001b[39m=\u001b[39m \u001b[39m110\u001b[39m)\n\u001b[0;32m     <a href='vscode-notebook-cell:/c%3A/Users/hirok/OneDrive/Documents/GitHub/Gravitational-Waves-Research-23-24/.ipynb_checkpoints/t-SNE-checkpoint.ipynb#W3sZmlsZQ%3D%3D?line=16'>17</a>\u001b[0m scatter_O3 \u001b[39m=\u001b[39m ax\u001b[39m.\u001b[39mscatter(X_tsne_O3[:, \u001b[39m0\u001b[39m], X_tsne_O3[:, \u001b[39m1\u001b[39m],color \u001b[39m=\u001b[39m \u001b[39m\"\u001b[39m\u001b[39mgreen\u001b[39m\u001b[39m\"\u001b[39m, label\u001b[39m=\u001b[39m\u001b[39m\"\u001b[39m\u001b[39mO3\u001b[39m\u001b[39m\"\u001b[39m)\n",
      "\u001b[1;31mNameError\u001b[0m: name 'tsne_o4' is not defined"
     ]
    }
   ],
   "source": [
    "# Creating the TSNE algorithm :\n",
    "tsne_O3 = TSNE(n_components=2, random_state=42)\n",
    "\n",
    "# The random_state argument is a seed for the random number generator (?)\n",
    "# Setting random_state to a fixed value allows for reproducability (?)\n",
    "\n",
    "# Applying the O3 data to the TSNE algorithm created : \n",
    "X_tsne_O3 = tsne_O3.fit_transform(O3_all_reduced)\n",
    "\n",
    "# This creates a 2 - dimensional df that will later be used for plotting\n",
    "\n",
    "tsne_O4 = TSNE(n_components=2, random_state=42)\n",
    "X_tsne_O4 = tsne_o4.fit_transform(O4_all_reduced)\n",
    "\n",
    "fig, ax = plt.subplots(1, 1, figsize=(5, 5), dpi = 110)\n",
    "\n",
    "scatter_O3 = ax.scatter(X_tsne_O3[:, 0], X_tsne_O3[:, 1],color = \"green\", label=\"O3\")\n",
    "\n",
    "scatter_O4 = ax.scatter(X_tsne_O4[:, 0], X_tsne_O4[:, 1], color = \"blue\",label=\"O4\")\n",
    "\n",
    "\n",
    "ax.legend()\n",
    "plt.show()"
   ]
  },
  {
   "cell_type": "code",
   "execution_count": 9,
   "id": "a368be4c-1c27-455e-a3bd-af9adee05e9e",
   "metadata": {},
   "outputs": [
    {
     "data": {
      "text/plain": [
       "<matplotlib.legend.Legend at 0x2066d7a7910>"
      ]
     },
     "execution_count": 9,
     "metadata": {},
     "output_type": "execute_result"
    },
    {
     "data": {
      "image/png": "[encoded data removed]",
      "text/plain": [
       "<Figure size 550x550 with 1 Axes>"
      ]
     },
     "metadata": {},
     "output_type": "display_data"
    }
   ],
   "source": [
    "fig, ax = plt.subplots(1, 1, figsize=(5, 5), dpi = 110)\n",
    "ax.scatter(O3_all[\"mass1\"], O3_all[\"mass2\"], color = \"green\", label = \"O3\")\n",
    "ax.scatter(O4_all[\"mass1\"], O4_all[\"mass2\"], color = \"blue\", label = \"O4\")\n",
    "ax.set_xlabel(\"Mass 1\")\n",
    "ax.set_ylabel(\"Mass 2\")\n",
    "ax.legend()"
   ]
  },
  {
   "cell_type": "code",
   "execution_count": null,
   "id": "916cd76e-3bdf-4d23-954e-1caeac26fa62",
   "metadata": {},
   "outputs": [],
   "source": []
  },
  {
   "cell_type": "code",
   "execution_count": null,
   "id": "6447ac95-1011-47e1-966c-92e9292840eb",
   "metadata": {},
   "outputs": [],
   "source": []
  },
  {
   "cell_type": "code",
   "execution_count": null,
   "id": "f49e2aff-1810-4274-9d35-7a42b4f46587",
   "metadata": {},
   "outputs": [],
   "source": []
  },
  {
   "cell_type": "markdown",
   "id": "b776f521-2838-4927-9c8b-70638d2cff5c",
   "metadata": {},
   "source": [
    "$$d_L = 45 \\text{ Gpc} \\left( \\frac{\\text{Hz}}{f_{\\text{GW}\\mid_{\\text{max}}}}\\right)\\left( \\frac{10^{-21}}{h\\mid_{\\text{max}}}\\right)$$"
   ]
  },
  {
   "cell_type": "markdown",
   "id": "50759278-f6b9-4a6f-be80-d9c3f2945121",
   "metadata": {},
   "source": [
    "Above is the formula for luminosity distance given in https://arxiv.org/pdf/1608.01940.pdf (equation 22). We can get the max frequency but I don't know how we'd find the maximum strain. Would we have to take it off a plot? It doesn't seem to be given in the GraceDB data."
   ]
  },
  {
   "cell_type": "markdown",
   "id": "cb8ebcea-0e77-4e0a-abd4-848b3caf6e33",
   "metadata": {},
   "source": [
    "$$\\chi_{\\text{eff}} = \\frac{\\vec{S_1}/m_1+\\vec{S_2}/m_2}{m_1+m_2} \\cdot \\hat{L}$$"
   ]
  },
  {
   "cell_type": "code",
   "execution_count": null,
   "id": "9302ebac-d60e-4292-a06a-01c448ad197d",
   "metadata": {},
   "outputs": [],
   "source": [
    "# Example of how this would be coded (for each row in a dataframe)... would need to update this... still dependent on previous code\n",
    "def x_eff(dataframe):\n",
    "    for x in range(len(dataframe)):\n",
    "        x_eff_vals = ((dataframe.at[x, \"spin1z\"] / dataframe.at[x, \"mass1\"]) + (dataframe.at[x, \"spin2z\"] / dataframe.at[x, \"mass2\"])) / ((dataframe.at[x, \"mass1\"]) + (dataframe.at[x, \"mass2\"]))\n",
    "        dataframe.at[x, 'x_eff'] = x_eff_vals"
   ]
  },
  {
   "cell_type": "code",
   "execution_count": null,
   "id": "d10f22cd-405b-4983-8728-37c9331d3291",
   "metadata": {},
   "outputs": [],
   "source": []
  },
  {
   "cell_type": "code",
   "execution_count": null,
   "id": "671bc22d-7f56-46fb-90cd-b5225273ab77",
   "metadata": {},
   "outputs": [],
   "source": []
  },
  {
   "cell_type": "code",
   "execution_count": null,
   "id": "7f8b3b16-871d-4d59-accc-d9ca57bba05c",
   "metadata": {},
   "outputs": [],
   "source": []
  },
  {
   "cell_type": "code",
   "execution_count": null,
   "id": "5432555a-a353-439a-a264-44e25fb9932d",
   "metadata": {},
   "outputs": [],
   "source": []
  },
  {
   "cell_type": "code",
   "execution_count": null,
   "id": "2533debd-0dd4-4356-9fc2-fc9730100f79",
   "metadata": {},
   "outputs": [],
   "source": []
  }
 ],
 "metadata": {
  "kernelspec": {
   "display_name": "Python 3 (ipykernel)",
   "language": "python",
   "name": "python3"
  },
  "language_info": {
   "codemirror_mode": {
    "name": "ipython",
    "version": 3
   },
   "file_extension": ".py",
   "mimetype": "text/x-python",
   "name": "python",
   "nbconvert_exporter": "python",
   "pygments_lexer": "ipython3",
   "version": "3.11.4"
  }
 },
 "nbformat": 4,
 "nbformat_minor": 5
}
